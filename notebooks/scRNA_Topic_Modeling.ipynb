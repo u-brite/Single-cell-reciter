{
 "cells": [
  {
   "cell_type": "markdown",
   "id": "0e3bd3a3-85f6-408c-a3cd-17cf12edaf2d",
   "metadata": {},
   "source": [
    "# Topic Modeling with Amortized LDA"
   ]
  },
  {
   "cell_type": "markdown",
   "id": "2d2bbe0d-9bae-4e21-bab2-932ebbef4494",
   "metadata": {},
   "source": [
    "## Load required library"
   ]
  },
  {
   "cell_type": "code",
   "execution_count": 1,
   "id": "a71fb99d-af60-46af-911e-99bada8c92f8",
   "metadata": {},
   "outputs": [],
   "source": [
    "import numpy as np\n",
    "import pandas as pd\n",
    "import scanpy as sc\n",
    "from glob import glob\n",
    "from pathlib import Path\n",
    "import scrublet as scr\n",
    "import pickle\n",
    "import os\n",
    "import anndata\n",
    "import matplotlib.pyplot as plt\n",
    "import scvi\n",
    "\n",
    "sc.settings.verbosity = 3"
   ]
  },
  {
   "cell_type": "markdown",
   "id": "2bf84b14-0aca-4b1d-bfb6-5f36f38209ba",
   "metadata": {},
   "source": [
    "### Initial setup for output folder and fig resolution"
   ]
  },
  {
   "cell_type": "code",
   "execution_count": 4,
   "id": "ebaf4cc3-c9f5-4275-96fb-bec82a279743",
   "metadata": {},
   "outputs": [],
   "source": [
    "sc.settings.set_figure_params(dpi=150)\n",
    "\n",
    "Result_dir = \"../results/\"\n",
    "Path(Result_dir).mkdir(parents=True, exist_ok=True)\n",
    "\n",
    "results_file = Result_dir + 'SCC.h5ad'  # the file that will store the analysis results"
   ]
  },
  {
   "cell_type": "markdown",
   "id": "060139ae-684f-4d21-91a8-84df0099b1e1",
   "metadata": {},
   "source": [
    "## Read Datasets"
   ]
  },
  {
   "cell_type": "code",
   "execution_count": 5,
   "id": "9cacaddb-e16c-4507-b666-f57df100300c",
   "metadata": {},
   "outputs": [],
   "source": [
    "OBJs = []"
   ]
  },
  {
   "cell_type": "markdown",
   "id": "5a031c94-5626-46e6-adff-f1f2c1d9e751",
   "metadata": {},
   "source": [
    "## SCC"
   ]
  },
  {
   "cell_type": "code",
   "execution_count": 6,
   "id": "e22cc02c-a339-454b-9bd0-e7bd74001dae",
   "metadata": {},
   "outputs": [
    {
     "name": "stdout",
     "output_type": "stream",
     "text": [
      "filtered_feature_bc_matrix_h5/P10_cSCC.h5\n",
      "filtered_feature_bc_matrix_h5/P1_1_cSCC.h5\n",
      "filtered_feature_bc_matrix_h5/P1_2_cSCC.h5\n",
      "filtered_feature_bc_matrix_h5/P2_cSCC.h5\n",
      "filtered_feature_bc_matrix_h5/P3_1_cSCC.h5\n",
      "filtered_feature_bc_matrix_h5/P3_2_cSCC.h5\n",
      "filtered_feature_bc_matrix_h5/P4_cSCC.h5\n",
      "filtered_feature_bc_matrix_h5/P5_cSCC.h5\n",
      "filtered_feature_bc_matrix_h5/P6_cSCC.h5\n",
      "filtered_feature_bc_matrix_h5/P7_cSCC.h5\n",
      "filtered_feature_bc_matrix_h5/P8_1_cSCC.h5\n",
      "filtered_feature_bc_matrix_h5/P8_2_cSCC.h5\n",
      "filtered_feature_bc_matrix_h5/P9_cSCC.h5\n"
     ]
    }
   ],
   "source": [
    "!ls ../filtered_feature_bc_matrix_h5/*cSCC* "
   ]
  },
  {
   "cell_type": "code",
   "execution_count": 7,
   "id": "e2de3ec8-c3e6-436a-a151-02b6f6c8533a",
   "metadata": {},
   "outputs": [
    {
     "name": "stdout",
     "output_type": "stream",
     "text": [
      "reading filtered_feature_bc_matrix_h5/P8_1_cSCC.h5\n",
      " (0:00:00)\n",
      "reading filtered_feature_bc_matrix_h5/P8_2_cSCC.h5\n"
     ]
    },
    {
     "name": "stderr",
     "output_type": "stream",
     "text": [
      "/home/nileshkr/.conda/envs/Hackin_Omics/lib/python3.10/site-packages/anndata/_core/anndata.py:1830: UserWarning: Variable names are not unique. To make them unique, call `.var_names_make_unique`.\n",
      "  utils.warn_names_duplicates(\"var\")\n"
     ]
    },
    {
     "name": "stdout",
     "output_type": "stream",
     "text": [
      " (0:00:00)\n",
      "reading filtered_feature_bc_matrix_h5/P7_cSCC.h5\n"
     ]
    },
    {
     "name": "stderr",
     "output_type": "stream",
     "text": [
      "/home/nileshkr/.conda/envs/Hackin_Omics/lib/python3.10/site-packages/anndata/_core/anndata.py:1830: UserWarning: Variable names are not unique. To make them unique, call `.var_names_make_unique`.\n",
      "  utils.warn_names_duplicates(\"var\")\n"
     ]
    },
    {
     "name": "stdout",
     "output_type": "stream",
     "text": [
      " (0:00:00)\n",
      "reading filtered_feature_bc_matrix_h5/P3_1_cSCC.h5\n"
     ]
    },
    {
     "name": "stderr",
     "output_type": "stream",
     "text": [
      "/home/nileshkr/.conda/envs/Hackin_Omics/lib/python3.10/site-packages/anndata/_core/anndata.py:1830: UserWarning: Variable names are not unique. To make them unique, call `.var_names_make_unique`.\n",
      "  utils.warn_names_duplicates(\"var\")\n"
     ]
    },
    {
     "name": "stdout",
     "output_type": "stream",
     "text": [
      " (0:00:00)\n",
      "reading filtered_feature_bc_matrix_h5/P2_cSCC.h5\n"
     ]
    },
    {
     "name": "stderr",
     "output_type": "stream",
     "text": [
      "/home/nileshkr/.conda/envs/Hackin_Omics/lib/python3.10/site-packages/anndata/_core/anndata.py:1830: UserWarning: Variable names are not unique. To make them unique, call `.var_names_make_unique`.\n",
      "  utils.warn_names_duplicates(\"var\")\n"
     ]
    },
    {
     "name": "stdout",
     "output_type": "stream",
     "text": [
      " (0:00:00)\n",
      "reading filtered_feature_bc_matrix_h5/P5_cSCC.h5\n"
     ]
    },
    {
     "name": "stderr",
     "output_type": "stream",
     "text": [
      "/home/nileshkr/.conda/envs/Hackin_Omics/lib/python3.10/site-packages/anndata/_core/anndata.py:1830: UserWarning: Variable names are not unique. To make them unique, call `.var_names_make_unique`.\n",
      "  utils.warn_names_duplicates(\"var\")\n"
     ]
    },
    {
     "name": "stdout",
     "output_type": "stream",
     "text": [
      " (0:00:00)\n",
      "reading filtered_feature_bc_matrix_h5/P3_2_cSCC.h5\n",
      " (0:00:00)\n",
      "reading filtered_feature_bc_matrix_h5/P4_cSCC.h5\n"
     ]
    },
    {
     "name": "stderr",
     "output_type": "stream",
     "text": [
      "/home/nileshkr/.conda/envs/Hackin_Omics/lib/python3.10/site-packages/anndata/_core/anndata.py:1830: UserWarning: Variable names are not unique. To make them unique, call `.var_names_make_unique`.\n",
      "  utils.warn_names_duplicates(\"var\")\n",
      "/home/nileshkr/.conda/envs/Hackin_Omics/lib/python3.10/site-packages/anndata/_core/anndata.py:1830: UserWarning: Variable names are not unique. To make them unique, call `.var_names_make_unique`.\n",
      "  utils.warn_names_duplicates(\"var\")\n"
     ]
    },
    {
     "name": "stdout",
     "output_type": "stream",
     "text": [
      " (0:00:01)\n"
     ]
    },
    {
     "name": "stderr",
     "output_type": "stream",
     "text": [
      "/home/nileshkr/.conda/envs/Hackin_Omics/lib/python3.10/site-packages/anndata/_core/anndata.py:1830: UserWarning: Variable names are not unique. To make them unique, call `.var_names_make_unique`.\n",
      "  utils.warn_names_duplicates(\"var\")\n"
     ]
    },
    {
     "name": "stdout",
     "output_type": "stream",
     "text": [
      "reading filtered_feature_bc_matrix_h5/P1_2_cSCC.h5\n",
      " (0:00:00)\n",
      "reading filtered_feature_bc_matrix_h5/P9_cSCC.h5\n"
     ]
    },
    {
     "name": "stderr",
     "output_type": "stream",
     "text": [
      "/home/nileshkr/.conda/envs/Hackin_Omics/lib/python3.10/site-packages/anndata/_core/anndata.py:1830: UserWarning: Variable names are not unique. To make them unique, call `.var_names_make_unique`.\n",
      "  utils.warn_names_duplicates(\"var\")\n"
     ]
    },
    {
     "name": "stdout",
     "output_type": "stream",
     "text": [
      " (0:00:00)\n",
      "reading filtered_feature_bc_matrix_h5/P10_cSCC.h5\n"
     ]
    },
    {
     "name": "stderr",
     "output_type": "stream",
     "text": [
      "/home/nileshkr/.conda/envs/Hackin_Omics/lib/python3.10/site-packages/anndata/_core/anndata.py:1830: UserWarning: Variable names are not unique. To make them unique, call `.var_names_make_unique`.\n",
      "  utils.warn_names_duplicates(\"var\")\n"
     ]
    },
    {
     "name": "stdout",
     "output_type": "stream",
     "text": [
      " (0:00:00)\n",
      "reading filtered_feature_bc_matrix_h5/P1_1_cSCC.h5\n"
     ]
    },
    {
     "name": "stderr",
     "output_type": "stream",
     "text": [
      "/home/nileshkr/.conda/envs/Hackin_Omics/lib/python3.10/site-packages/anndata/_core/anndata.py:1830: UserWarning: Variable names are not unique. To make them unique, call `.var_names_make_unique`.\n",
      "  utils.warn_names_duplicates(\"var\")\n"
     ]
    },
    {
     "name": "stdout",
     "output_type": "stream",
     "text": [
      " (0:00:00)\n",
      "reading filtered_feature_bc_matrix_h5/P6_cSCC.h5\n"
     ]
    },
    {
     "name": "stderr",
     "output_type": "stream",
     "text": [
      "/home/nileshkr/.conda/envs/Hackin_Omics/lib/python3.10/site-packages/anndata/_core/anndata.py:1830: UserWarning: Variable names are not unique. To make them unique, call `.var_names_make_unique`.\n",
      "  utils.warn_names_duplicates(\"var\")\n"
     ]
    },
    {
     "name": "stdout",
     "output_type": "stream",
     "text": [
      " (0:00:00)\n"
     ]
    },
    {
     "name": "stderr",
     "output_type": "stream",
     "text": [
      "/home/nileshkr/.conda/envs/Hackin_Omics/lib/python3.10/site-packages/anndata/_core/anndata.py:1830: UserWarning: Variable names are not unique. To make them unique, call `.var_names_make_unique`.\n",
      "  utils.warn_names_duplicates(\"var\")\n"
     ]
    }
   ],
   "source": [
    "data_SCC_P8_1 = sc.read_10x_h5(\"../filtered_feature_bc_matrix_h5/P8_1_cSCC.h5\")\n",
    "data_SCC_P8_1.var_names_make_unique()\n",
    "data_SCC_P8_1.obs['type'] = 'SCC'\n",
    "data_SCC_P8_1.obs['sample'] = 'SCC_P8_1'\n",
    "\n",
    "data_SCC_P8_2 = sc.read_10x_h5(\"../filtered_feature_bc_matrix_h5/P8_2_cSCC.h5\")\n",
    "data_SCC_P8_2.var_names_make_unique()\n",
    "data_SCC_P8_2.obs['type'] = 'SCC'\n",
    "data_SCC_P8_2.obs['sample'] = 'SCC_P8_2'\n",
    "\n",
    "data_SCC_P7 = sc.read_10x_h5(\"../filtered_feature_bc_matrix_h5/P7_cSCC.h5\")\n",
    "data_SCC_P7.var_names_make_unique()\n",
    "data_SCC_P7.obs['type'] = 'SCC'\n",
    "data_SCC_P7.obs['sample'] = 'SCC_P7'\n",
    "\n",
    "data_SCC_P3_1 = sc.read_10x_h5(\"../filtered_feature_bc_matrix_h5/P3_1_cSCC.h5\")\n",
    "data_SCC_P3_1.var_names_make_unique()\n",
    "data_SCC_P3_1.obs['type'] = 'SCC'\n",
    "data_SCC_P3_1.obs['sample'] = 'SCC_P3_1'\n",
    "\n",
    "data_SCC_P2 = sc.read_10x_h5(\"../filtered_feature_bc_matrix_h5/P2_cSCC.h5\")\n",
    "data_SCC_P2.var_names_make_unique()\n",
    "data_SCC_P2.obs['type'] = 'SCC'\n",
    "data_SCC_P2.obs['sample'] = 'SCC_P2'\n",
    "\n",
    "data_SCC_P5 = sc.read_10x_h5(\"../filtered_feature_bc_matrix_h5/P5_cSCC.h5\")\n",
    "data_SCC_P5.var_names_make_unique()\n",
    "data_SCC_P5.obs['type'] = 'SCC'\n",
    "data_SCC_P5.obs['sample'] = 'SCC_P5'\n",
    "\n",
    "data_SCC_P3_2 = sc.read_10x_h5(\"../filtered_feature_bc_matrix_h5/P3_2_cSCC.h5\")\n",
    "data_SCC_P3_2.var_names_make_unique()\n",
    "data_SCC_P3_2.obs['type'] = 'SCC'\n",
    "data_SCC_P3_2.obs['sample'] = 'SCC_P3_2'\n",
    "\n",
    "data_SCC_P4 = sc.read_10x_h5(\"../filtered_feature_bc_matrix_h5/P4_cSCC.h5\")\n",
    "data_SCC_P4.var_names_make_unique()\n",
    "data_SCC_P4.obs['type'] = 'SCC'\n",
    "data_SCC_P4.obs['sample'] = 'SCC_P4'\n",
    "\n",
    "data_SCC_P1_2 = sc.read_10x_h5(\"../filtered_feature_bc_matrix_h5/P1_2_cSCC.h5\")\n",
    "data_SCC_P1_2.var_names_make_unique()\n",
    "data_SCC_P1_2.obs['type'] = 'SCC'\n",
    "data_SCC_P1_2.obs['sample'] = 'SCC_P1_2'\n",
    "\n",
    "data_SCC_P9 = sc.read_10x_h5(\"../filtered_feature_bc_matrix_h5/P9_cSCC.h5\")\n",
    "data_SCC_P9.var_names_make_unique()\n",
    "data_SCC_P9.obs['type'] = 'SCC'\n",
    "data_SCC_P9.obs['sample'] = 'SCC_P9'\n",
    "\n",
    "data_SCC_P10 = sc.read_10x_h5(\"../filtered_feature_bc_matrix_h5/P10_cSCC.h5\")\n",
    "data_SCC_P10.var_names_make_unique()\n",
    "data_SCC_P10.obs['type'] = 'SCC'\n",
    "data_SCC_P10.obs['sample'] = 'SCC_P10'\n",
    "\n",
    "data_SCC_P1_1 = sc.read_10x_h5(\"../filtered_feature_bc_matrix_h5/P1_1_cSCC.h5\")\n",
    "data_SCC_P1_1.var_names_make_unique()\n",
    "data_SCC_P1_1.obs['type'] = 'SCC'\n",
    "data_SCC_P1_1.obs['sample'] = 'SCC_P1_1'\n",
    "\n",
    "data_SCC_P6 = sc.read_10x_h5(\"../filtered_feature_bc_matrix_h5/P6_cSCC.h5\")\n",
    "data_SCC_P6.var_names_make_unique()\n",
    "data_SCC_P6.obs['type'] = 'SCC'\n",
    "data_SCC_P6.obs['sample'] = 'SCC_P6'"
   ]
  },
  {
   "cell_type": "markdown",
   "id": "0c2225c3-ce35-491a-85db-c36c92cd629b",
   "metadata": {},
   "source": [
    "## Normal"
   ]
  },
  {
   "cell_type": "code",
   "execution_count": 8,
   "id": "859dbfd1-cc40-48a1-981a-c3087794c3bd",
   "metadata": {},
   "outputs": [
    {
     "name": "stdout",
     "output_type": "stream",
     "text": [
      "reading filtered_feature_bc_matrix_h5/P4.h5\n",
      " (0:00:00)\n",
      "reading filtered_feature_bc_matrix_h5/P1_1.h5\n"
     ]
    },
    {
     "name": "stderr",
     "output_type": "stream",
     "text": [
      "/home/nileshkr/.conda/envs/Hackin_Omics/lib/python3.10/site-packages/anndata/_core/anndata.py:1830: UserWarning: Variable names are not unique. To make them unique, call `.var_names_make_unique`.\n",
      "  utils.warn_names_duplicates(\"var\")\n"
     ]
    },
    {
     "name": "stdout",
     "output_type": "stream",
     "text": [
      " (0:00:00)\n",
      "reading filtered_feature_bc_matrix_h5/P10.h5\n"
     ]
    },
    {
     "name": "stderr",
     "output_type": "stream",
     "text": [
      "/home/nileshkr/.conda/envs/Hackin_Omics/lib/python3.10/site-packages/anndata/_core/anndata.py:1830: UserWarning: Variable names are not unique. To make them unique, call `.var_names_make_unique`.\n",
      "  utils.warn_names_duplicates(\"var\")\n"
     ]
    },
    {
     "name": "stdout",
     "output_type": "stream",
     "text": [
      " (0:00:00)\n",
      "reading filtered_feature_bc_matrix_h5/P3.h5\n"
     ]
    },
    {
     "name": "stderr",
     "output_type": "stream",
     "text": [
      "/home/nileshkr/.conda/envs/Hackin_Omics/lib/python3.10/site-packages/anndata/_core/anndata.py:1830: UserWarning: Variable names are not unique. To make them unique, call `.var_names_make_unique`.\n",
      "  utils.warn_names_duplicates(\"var\")\n"
     ]
    },
    {
     "name": "stdout",
     "output_type": "stream",
     "text": [
      " (0:00:00)\n",
      "reading filtered_feature_bc_matrix_h5/P2.h5\n"
     ]
    },
    {
     "name": "stderr",
     "output_type": "stream",
     "text": [
      "/home/nileshkr/.conda/envs/Hackin_Omics/lib/python3.10/site-packages/anndata/_core/anndata.py:1830: UserWarning: Variable names are not unique. To make them unique, call `.var_names_make_unique`.\n",
      "  utils.warn_names_duplicates(\"var\")\n"
     ]
    },
    {
     "name": "stdout",
     "output_type": "stream",
     "text": [
      " (0:00:00)\n",
      "reading filtered_feature_bc_matrix_h5/P9.h5\n"
     ]
    },
    {
     "name": "stderr",
     "output_type": "stream",
     "text": [
      "/home/nileshkr/.conda/envs/Hackin_Omics/lib/python3.10/site-packages/anndata/_core/anndata.py:1830: UserWarning: Variable names are not unique. To make them unique, call `.var_names_make_unique`.\n",
      "  utils.warn_names_duplicates(\"var\")\n"
     ]
    },
    {
     "name": "stdout",
     "output_type": "stream",
     "text": [
      " (0:00:00)\n",
      "reading filtered_feature_bc_matrix_h5/P8.h5\n"
     ]
    },
    {
     "name": "stderr",
     "output_type": "stream",
     "text": [
      "/home/nileshkr/.conda/envs/Hackin_Omics/lib/python3.10/site-packages/anndata/_core/anndata.py:1830: UserWarning: Variable names are not unique. To make them unique, call `.var_names_make_unique`.\n",
      "  utils.warn_names_duplicates(\"var\")\n"
     ]
    },
    {
     "name": "stdout",
     "output_type": "stream",
     "text": [
      " (0:00:00)\n",
      "reading filtered_feature_bc_matrix_h5/P7.h5\n"
     ]
    },
    {
     "name": "stderr",
     "output_type": "stream",
     "text": [
      "/home/nileshkr/.conda/envs/Hackin_Omics/lib/python3.10/site-packages/anndata/_core/anndata.py:1830: UserWarning: Variable names are not unique. To make them unique, call `.var_names_make_unique`.\n",
      "  utils.warn_names_duplicates(\"var\")\n"
     ]
    },
    {
     "name": "stdout",
     "output_type": "stream",
     "text": [
      " (0:00:00)\n",
      "reading filtered_feature_bc_matrix_h5/P6.h5\n"
     ]
    },
    {
     "name": "stderr",
     "output_type": "stream",
     "text": [
      "/home/nileshkr/.conda/envs/Hackin_Omics/lib/python3.10/site-packages/anndata/_core/anndata.py:1830: UserWarning: Variable names are not unique. To make them unique, call `.var_names_make_unique`.\n",
      "  utils.warn_names_duplicates(\"var\")\n"
     ]
    },
    {
     "name": "stdout",
     "output_type": "stream",
     "text": [
      " (0:00:00)\n",
      "reading filtered_feature_bc_matrix_h5/P5.h5\n"
     ]
    },
    {
     "name": "stderr",
     "output_type": "stream",
     "text": [
      "/home/nileshkr/.conda/envs/Hackin_Omics/lib/python3.10/site-packages/anndata/_core/anndata.py:1830: UserWarning: Variable names are not unique. To make them unique, call `.var_names_make_unique`.\n",
      "  utils.warn_names_duplicates(\"var\")\n"
     ]
    },
    {
     "name": "stdout",
     "output_type": "stream",
     "text": [
      " (0:00:00)\n"
     ]
    },
    {
     "name": "stderr",
     "output_type": "stream",
     "text": [
      "/home/nileshkr/.conda/envs/Hackin_Omics/lib/python3.10/site-packages/anndata/_core/anndata.py:1830: UserWarning: Variable names are not unique. To make them unique, call `.var_names_make_unique`.\n",
      "  utils.warn_names_duplicates(\"var\")\n"
     ]
    }
   ],
   "source": [
    "data_nrl_P4 = sc.read_10x_h5(\"../filtered_feature_bc_matrix_h5/P4.h5\")\n",
    "data_nrl_P4.var_names_make_unique()\n",
    "data_nrl_P4.obs['type'] = 'Normal'\n",
    "data_nrl_P4.obs['sample'] = 'nrl_P4'\n",
    "\n",
    "data_nrl_P1_1 = sc.read_10x_h5(\"../filtered_feature_bc_matrix_h5/P1_1.h5\")\n",
    "data_nrl_P1_1.var_names_make_unique()\n",
    "data_nrl_P1_1.obs['type'] = 'Normal'\n",
    "data_nrl_P1_1.obs['sample'] = 'nrl_P1_1'\n",
    "\n",
    "data_nrl_P10 = sc.read_10x_h5(\"../filtered_feature_bc_matrix_h5/P10.h5\")\n",
    "data_nrl_P10.var_names_make_unique()\n",
    "data_nrl_P10.obs['type'] = 'Normal'\n",
    "data_nrl_P10.obs['sample'] = 'nrl_P10'\n",
    "\n",
    "data_nrl_P3 = sc.read_10x_h5(\"../filtered_feature_bc_matrix_h5/P3.h5\")\n",
    "data_nrl_P3.var_names_make_unique()\n",
    "data_nrl_P3.obs['type'] = 'Normal'\n",
    "data_nrl_P3.obs['sample'] = 'nrl_P3'\n",
    "\n",
    "data_nrl_P2 = sc.read_10x_h5(\"../filtered_feature_bc_matrix_h5/P2.h5\")\n",
    "data_nrl_P2.var_names_make_unique()\n",
    "data_nrl_P2.obs['type'] = 'Normal'\n",
    "data_nrl_P2.obs['sample'] = 'nrl_P2'\n",
    "\n",
    "data_nrl_P9 = sc.read_10x_h5(\"../filtered_feature_bc_matrix_h5/P9.h5\")\n",
    "data_nrl_P9.var_names_make_unique()\n",
    "data_nrl_P9.obs['type'] = 'Normal'\n",
    "data_nrl_P9.obs['sample'] = 'nrl_P9'\n",
    "\n",
    "data_nrl_P8 = sc.read_10x_h5(\"../filtered_feature_bc_matrix_h5/P8.h5\")\n",
    "data_nrl_P8.var_names_make_unique()\n",
    "data_nrl_P8.obs['type'] = 'Normal'\n",
    "data_nrl_P8.obs['sample'] = 'nrl_P8'\n",
    "\n",
    "data_nrl_P7 = sc.read_10x_h5(\"../filtered_feature_bc_matrix_h5/P7.h5\")\n",
    "data_nrl_P7.var_names_make_unique()\n",
    "data_nrl_P7.obs['type'] = 'Normal'\n",
    "data_nrl_P7.obs['sample'] = 'nrl_P7'\n",
    "\n",
    "data_nrl_P6 = sc.read_10x_h5(\"../filtered_feature_bc_matrix_h5/P6.h5\")\n",
    "data_nrl_P6.var_names_make_unique()\n",
    "data_nrl_P6.obs['type'] = 'Normal'\n",
    "data_nrl_P6.obs['sample'] = 'nrl_P6'\n",
    "\n",
    "data_nrl_P5 = sc.read_10x_h5(\"../filtered_feature_bc_matrix_h5/P5.h5\")\n",
    "data_nrl_P5.var_names_make_unique()\n",
    "data_nrl_P5.obs['type'] = 'Normal'\n",
    "data_nrl_P5.obs['sample'] = 'nrl_P5'"
   ]
  },
  {
   "cell_type": "markdown",
   "id": "4df29a17-8fb1-46fa-8193-8edb68656451",
   "metadata": {},
   "source": [
    "## Merge all into one object and delete used objectes."
   ]
  },
  {
   "cell_type": "code",
   "execution_count": 9,
   "id": "ee54fd90-9b69-41c4-8d34-4ec37bdc489a",
   "metadata": {},
   "outputs": [
    {
     "name": "stderr",
     "output_type": "stream",
     "text": [
      "/home/nileshkr/.conda/envs/Hackin_Omics/lib/python3.10/site-packages/anndata/_core/anndata.py:1785: FutureWarning: X.dtype being converted to np.float32 from float64. In the next version of anndata (0.9) conversion will not be automatic. Pass dtype explicitly to avoid this warning. Pass `AnnData(X, dtype=X.dtype, ...)` to get the future behavour.\n",
      "  [AnnData(sparse.csr_matrix(a.shape), obs=a.obs) for a in all_adatas],\n"
     ]
    },
    {
     "name": "stdout",
     "output_type": "stream",
     "text": [
      "CPU times: user 1.91 s, sys: 314 ms, total: 2.23 s\n",
      "Wall time: 2.22 s\n"
     ]
    }
   ],
   "source": [
    "%%time\n",
    "\n",
    "adata = data_SCC_P1_1.concatenate(data_SCC_P10, data_SCC_P1_2, data_SCC_P2, data_SCC_P3_1, data_SCC_P3_2, \n",
    "                                  data_SCC_P4, data_SCC_P5, data_SCC_P6, data_SCC_P7, data_SCC_P8_1, \n",
    "                                  data_SCC_P8_2, data_SCC_P9, data_nrl_P10, data_nrl_P1_1, data_nrl_P2, \n",
    "                                  data_nrl_P3, data_nrl_P4, data_nrl_P5, data_nrl_P6, data_nrl_P7, \n",
    "                                  data_nrl_P8, data_nrl_P9)\n",
    "\n",
    "# and delete individual datasets to save space\n",
    "del(data_SCC_P10, data_SCC_P1_1, data_SCC_P1_2, data_SCC_P2, \n",
    "    data_SCC_P3_1, data_SCC_P3_2, data_SCC_P4, data_SCC_P5, \n",
    "    data_SCC_P6, data_SCC_P7, data_SCC_P8_1, data_SCC_P8_2, \n",
    "    data_SCC_P9, data_nrl_P10, data_nrl_P1_1, data_nrl_P2, \n",
    "    data_nrl_P3, data_nrl_P4, data_nrl_P5, data_nrl_P6, \n",
    "    data_nrl_P7, data_nrl_P8, data_nrl_P9)\n"
   ]
  },
  {
   "cell_type": "markdown",
   "id": "48f854b1-2e58-4c40-968e-90a0e978ed74",
   "metadata": {},
   "source": [
    "### Save data to disk temporarily"
   ]
  },
  {
   "cell_type": "code",
   "execution_count": 10,
   "id": "5607d1c0-4443-49fd-a884-f1ee90d17daa",
   "metadata": {},
   "outputs": [],
   "source": [
    "adata.write(results_file)"
   ]
  },
  {
   "cell_type": "code",
   "execution_count": 11,
   "id": "0786f35d-f6ee-41e9-877b-9f263c945a53",
   "metadata": {},
   "outputs": [
    {
     "name": "stdout",
     "output_type": "stream",
     "text": [
      "SCC_P4      12474\n",
      "nrl_P9       7595\n",
      "nrl_P6       7066\n",
      "nrl_P2       6205\n",
      "SCC_P7       5292\n",
      "SCC_P2       5123\n",
      "SCC_P10      5053\n",
      "SCC_P8_1     4459\n",
      "SCC_P6       4453\n",
      "nrl_P10      4324\n",
      "nrl_P1_1     3584\n",
      "SCC_P9       3261\n",
      "nrl_P7       3105\n",
      "SCC_P5       2323\n",
      "nrl_P3       1553\n",
      "nrl_P5       1551\n",
      "SCC_P8_2     1531\n",
      "SCC_P1_1     1194\n",
      "SCC_P1_2      925\n",
      "nrl_P8        767\n",
      "SCC_P3_2      366\n",
      "nrl_P4        290\n",
      "SCC_P3_1      127\n",
      "Name: sample, dtype: int64\n"
     ]
    },
    {
     "data": {
      "text/plain": [
       "AnnData object with n_obs × n_vars = 82621 × 36601\n",
       "    obs: 'type', 'sample', 'batch'\n",
       "    var: 'gene_ids', 'feature_types', 'genome'"
      ]
     },
     "execution_count": 11,
     "metadata": {},
     "output_type": "execute_result"
    }
   ],
   "source": [
    "print(adata.obs['sample'].value_counts())\n",
    "\n",
    "adata"
   ]
  },
  {
   "cell_type": "markdown",
   "id": "8248c9d8-6b25-4023-aa5d-c4178f8e1f38",
   "metadata": {},
   "source": [
    "## Calculate QC"
   ]
  },
  {
   "cell_type": "code",
   "execution_count": 12,
   "id": "adfabebb-f070-4c7a-9e13-dbbb0d66ccec",
   "metadata": {},
   "outputs": [
    {
     "name": "stderr",
     "output_type": "stream",
     "text": [
      "Global seed set to 0\n"
     ]
    }
   ],
   "source": [
    "sc.set_figure_params(figsize=(4, 4))\n",
    "\n",
    "%config InlineBackend.print_figure_kwargs={'facecolor' : \"w\"}\n",
    "%config InlineBackend.figure_format='retina'"
   ]
  },
  {
   "cell_type": "markdown",
   "id": "274f09ae-e0fe-46cd-8323-90568a081449",
   "metadata": {},
   "source": [
    "### Read data from disk"
   ]
  },
  {
   "cell_type": "code",
   "execution_count": 13,
   "id": "bf430d4f-2ab4-4ba9-bbe3-676f21ce549e",
   "metadata": {},
   "outputs": [
    {
     "data": {
      "text/plain": [
       "AnnData object with n_obs × n_vars = 82621 × 36601\n",
       "    obs: 'type', 'sample', 'batch'\n",
       "    var: 'gene_ids', 'feature_types', 'genome'"
      ]
     },
     "execution_count": 13,
     "metadata": {},
     "output_type": "execute_result"
    }
   ],
   "source": [
    "save_path = \"Results\"\n",
    "# adata = sc.read(os.path.join(save_path, \"pbmc_10k_protein_v3.h5ad\"), backup_url=\"https://github.com/YosefLab/scVI-data/raw/master/pbmc_10k_protein_v3.h5ad?raw=true\")\n",
    "# adata = scvi.data.read_h5ad(\"P9_filtered_feature_bc_matrix.h5\")\n",
    "adata = sc.read(\"Results/SCC.h5ad\")\n",
    "\n",
    "adata"
   ]
  },
  {
   "cell_type": "code",
   "execution_count": 14,
   "id": "40d7f154-6cf9-426c-9c5b-8ce99ceb843c",
   "metadata": {},
   "outputs": [
    {
     "name": "stdout",
     "output_type": "stream",
     "text": [
      "SCC_P4      12474\n",
      "nrl_P9       7595\n",
      "nrl_P6       7066\n",
      "nrl_P2       6205\n",
      "SCC_P7       5292\n",
      "SCC_P2       5123\n",
      "SCC_P10      5053\n",
      "SCC_P8_1     4459\n",
      "SCC_P6       4453\n",
      "nrl_P10      4324\n",
      "nrl_P1_1     3584\n",
      "SCC_P9       3261\n",
      "nrl_P7       3105\n",
      "SCC_P5       2323\n",
      "nrl_P3       1553\n",
      "nrl_P5       1551\n",
      "SCC_P8_2     1531\n",
      "SCC_P1_1     1194\n",
      "SCC_P1_2      925\n",
      "nrl_P8        767\n",
      "SCC_P3_2      366\n",
      "nrl_P4        290\n",
      "SCC_P3_1      127\n",
      "Name: sample, dtype: int64\n"
     ]
    },
    {
     "data": {
      "text/plain": [
       "AnnData object with n_obs × n_vars = 82621 × 36601\n",
       "    obs: 'type', 'sample', 'batch'\n",
       "    var: 'gene_ids', 'feature_types', 'genome'"
      ]
     },
     "execution_count": 14,
     "metadata": {},
     "output_type": "execute_result"
    }
   ],
   "source": [
    "print(adata.obs['sample'].value_counts())\n",
    "\n",
    "adata"
   ]
  },
  {
   "cell_type": "markdown",
   "id": "681f0405-e537-4163-9176-e8b1aa82ad5c",
   "metadata": {},
   "source": [
    "## Filter low quality data"
   ]
  },
  {
   "cell_type": "code",
   "execution_count": 16,
   "id": "8215a739-b310-4596-b3fd-e59f974b1cec",
   "metadata": {},
   "outputs": [
    {
     "name": "stdout",
     "output_type": "stream",
     "text": [
      "filtered out 1997 cells that have less than 200 genes expressed\n",
      "filtered out 8815 genes that are detected in less than 3 cells\n"
     ]
    }
   ],
   "source": [
    "sc.pp.filter_cells(adata, min_genes=200)\n",
    "sc.pp.filter_genes(adata, min_cells=3)"
   ]
  },
  {
   "cell_type": "code",
   "execution_count": 17,
   "id": "f32f5870-6166-4149-b019-289782ef6f15",
   "metadata": {},
   "outputs": [],
   "source": [
    "adata.var['mt'] = adata.var_names.str.startswith('MT-')  # annotate the group of mitochondrial genes as 'mt'\n",
    "sc.pp.calculate_qc_metrics(adata, qc_vars=['mt'], percent_top=None, log1p=False, inplace=True)"
   ]
  },
  {
   "cell_type": "code",
   "execution_count": 18,
   "id": "d8af1abb-6737-4657-a973-cf59325a1e3d",
   "metadata": {},
   "outputs": [],
   "source": [
    "sc.pl.violin(adata, ['n_genes_by_counts', 'total_counts', 'pct_counts_mt'],\n",
    "             jitter=0.4, multi_panel=True)"
   ]
  },
  {
   "cell_type": "code",
   "execution_count": 19,
   "id": "eb4949ff-3560-41f2-b8f5-1690bc2bdd1b",
   "metadata": {},
   "outputs": [],
   "source": [
    "sc.pl.scatter(adata, x='total_counts', y='pct_counts_mt')\n",
    "sc.pl.scatter(adata, x='total_counts', y='n_genes_by_counts')"
   ]
  },
  {
   "cell_type": "code",
   "execution_count": 20,
   "id": "9f2372ba-5646-4904-ad41-d72ed69252f6",
   "metadata": {},
   "outputs": [],
   "source": [
    "adata = adata[adata.obs.n_genes_by_counts < 2500, :]\n",
    "adata = adata[adata.obs.pct_counts_mt < 5, :]"
   ]
  },
  {
   "cell_type": "code",
   "execution_count": 21,
   "id": "7b8350e8-4551-4139-bcb6-3623b2a42780",
   "metadata": {},
   "outputs": [],
   "source": [
    "adata.layers[\"counts\"] = adata.X.copy()"
   ]
  },
  {
   "cell_type": "markdown",
   "id": "8a49c467-735c-41f0-a127-0b5cd287ff3a",
   "metadata": {},
   "source": [
    "## Create the model for training"
   ]
  },
  {
   "cell_type": "code",
   "execution_count": 22,
   "id": "8adec84c-e485-46bf-838e-dfeb8b1dc609",
   "metadata": {},
   "outputs": [],
   "source": [
    "n_topics = 10\n",
    "\n",
    "scvi.model.AmortizedLDA.setup_anndata(adata, layer = \"counts\")\n",
    "model = scvi.model.AmortizedLDA(adata, n_topics = n_topics)"
   ]
  },
  {
   "cell_type": "code",
   "execution_count": 23,
   "id": "40c2a7a1-22dc-49f1-b406-b5dc2379c7e6",
   "metadata": {},
   "outputs": [
    {
     "data": {
      "text/html": [
       "<pre style=\"white-space:pre;overflow-x:auto;line-height:normal;font-family:Menlo,'DejaVu Sans Mono',consolas,'Courier New',monospace\">\n",
       "Training status: Not Trained\n",
       "</pre>\n"
      ],
      "text/plain": [
       "\n",
       "Training status: Not Trained\n"
      ]
     },
     "metadata": {},
     "output_type": "display_data"
    },
    {
     "data": {
      "text/plain": []
     },
     "execution_count": 23,
     "metadata": {},
     "output_type": "execute_result"
    }
   ],
   "source": [
    "scvi.model.AmortizedLDA(adata, n_topics = n_topics)"
   ]
  },
  {
   "cell_type": "markdown",
   "id": "16ae763f-75b6-4612-b490-7d43e1c40cd3",
   "metadata": {},
   "source": [
    "## Train the model "
   ]
  },
  {
   "cell_type": "code",
   "execution_count": 24,
   "id": "7c248348-7966-4df3-b890-7449e595627a",
   "metadata": {},
   "outputs": [],
   "source": [
    "model.train()"
   ]
  },
  {
   "cell_type": "markdown",
   "id": "1a75f045-e46a-4247-9184-58a29b9b1d3e",
   "metadata": {},
   "source": [
    "## Save the trained model (Optional)"
   ]
  },
  {
   "cell_type": "code",
   "execution_count": 25,
   "id": "9b860f70-7cea-464b-a4b8-b5b2137e2873",
   "metadata": {},
   "outputs": [],
   "source": [
    "model.save(\"SCC_Topic_model/\")"
   ]
  },
  {
   "cell_type": "code",
   "execution_count": 26,
   "id": "5f74e705",
   "metadata": {},
   "outputs": [
    {
     "name": "stdout",
     "output_type": "stream",
     "text": [
      "\u001b[34mINFO    \u001b[0m File SCC_Topic_model/model.pt already downloaded                                    \n"
     ]
    },
    {
     "name": "stderr",
     "output_type": "stream",
     "text": [
      "GPU available: True, used: True\n",
      "TPU available: False, using: 0 TPU cores\n",
      "IPU available: False, using: 0 IPUs\n",
      "HPU available: False, using: 0 HPUs\n",
      "/home/nileshkr/.conda/envs/Hackin_Omics/lib/python3.10/site-packages/pytorch_lightning/trainer/configuration_validator.py:131: UserWarning: You passed in a `val_dataloader` but have no `validation_step`. Skipping val loop.\n",
      "  rank_zero_warn(\"You passed in a `val_dataloader` but have no `validation_step`. Skipping val loop.\")\n",
      "LOCAL_RANK: 0 - CUDA_VISIBLE_DEVICES: [0]\n"
     ]
    },
    {
     "name": "stdout",
     "output_type": "stream",
     "text": [
      "Epoch 521/521: 100%|██████████| 521/521 [46:35<00:00,  5.37s/it, v_num=1, elbo_train=1.06e+9]\n"
     ]
    }
   ],
   "source": [
    "model = model.load(\"SCC_Topic_model/\", adata=adata)#, use_gpu=True)"
   ]
  },
  {
   "cell_type": "code",
   "execution_count": 27,
   "id": "65769ddb-4d46-430e-9ed2-9bd252eebb50",
   "metadata": {},
   "outputs": [
    {
     "data": {
      "text/plain": [
       "AnnData object with n_obs × n_vars = 38379 × 27786\n",
       "    obs: 'type', 'sample', 'batch', 'n_genes', 'n_genes_by_counts', 'total_counts', 'total_counts_mt', 'pct_counts_mt'\n",
       "    var: 'gene_ids', 'feature_types', 'genome', 'n_cells', 'mt', 'n_cells_by_counts', 'mean_counts', 'pct_dropout_by_counts', 'total_counts'\n",
       "    uns: '_scvi_uuid', '_scvi_manager_uuid'\n",
       "    layers: 'counts'"
      ]
     },
     "execution_count": 27,
     "metadata": {},
     "output_type": "execute_result"
    }
   ],
   "source": [
    "adata"
   ]
  },
  {
   "cell_type": "markdown",
   "id": "9dbefb54-8508-43d6-bb2c-8d954b276b42",
   "metadata": {},
   "source": [
    "## Visualizing learned topics"
   ]
  },
  {
   "cell_type": "code",
   "execution_count": 31,
   "id": "b3ebbf39",
   "metadata": {},
   "outputs": [
    {
     "data": {
      "text/html": [
       "<div>\n",
       "<style scoped>\n",
       "    .dataframe tbody tr th:only-of-type {\n",
       "        vertical-align: middle;\n",
       "    }\n",
       "\n",
       "    .dataframe tbody tr th {\n",
       "        vertical-align: top;\n",
       "    }\n",
       "\n",
       "    .dataframe thead th {\n",
       "        text-align: right;\n",
       "    }\n",
       "</style>\n",
       "<table border=\"1\" class=\"dataframe\">\n",
       "  <thead>\n",
       "    <tr style=\"text-align: right;\">\n",
       "      <th></th>\n",
       "      <th>topic_0</th>\n",
       "      <th>topic_1</th>\n",
       "      <th>topic_2</th>\n",
       "      <th>topic_3</th>\n",
       "      <th>topic_4</th>\n",
       "      <th>topic_5</th>\n",
       "      <th>topic_6</th>\n",
       "      <th>topic_7</th>\n",
       "      <th>topic_8</th>\n",
       "      <th>topic_9</th>\n",
       "    </tr>\n",
       "  </thead>\n",
       "  <tbody>\n",
       "    <tr>\n",
       "      <th>AACGTTGAGAAGGACA-1-0</th>\n",
       "      <td>0.000076</td>\n",
       "      <td>0.000237</td>\n",
       "      <td>0.000039</td>\n",
       "      <td>0.000122</td>\n",
       "      <td>0.000207</td>\n",
       "      <td>0.645719</td>\n",
       "      <td>0.000076</td>\n",
       "      <td>0.000044</td>\n",
       "      <td>0.152500</td>\n",
       "      <td>0.200979</td>\n",
       "    </tr>\n",
       "    <tr>\n",
       "      <th>AAGACCTAGCGATTCT-1-0</th>\n",
       "      <td>0.005141</td>\n",
       "      <td>0.001239</td>\n",
       "      <td>0.000024</td>\n",
       "      <td>0.339639</td>\n",
       "      <td>0.000676</td>\n",
       "      <td>0.057522</td>\n",
       "      <td>0.075478</td>\n",
       "      <td>0.013058</td>\n",
       "      <td>0.506585</td>\n",
       "      <td>0.000638</td>\n",
       "    </tr>\n",
       "    <tr>\n",
       "      <th>AAGGCAGTCGGCCGAT-1-0</th>\n",
       "      <td>0.000160</td>\n",
       "      <td>0.000015</td>\n",
       "      <td>0.000002</td>\n",
       "      <td>0.000023</td>\n",
       "      <td>0.000093</td>\n",
       "      <td>0.998916</td>\n",
       "      <td>0.000070</td>\n",
       "      <td>0.000005</td>\n",
       "      <td>0.000383</td>\n",
       "      <td>0.000333</td>\n",
       "    </tr>\n",
       "    <tr>\n",
       "      <th>ACGAGCCAGACCTAGG-1-0</th>\n",
       "      <td>0.000497</td>\n",
       "      <td>0.069345</td>\n",
       "      <td>0.000120</td>\n",
       "      <td>0.009453</td>\n",
       "      <td>0.008865</td>\n",
       "      <td>0.001548</td>\n",
       "      <td>0.025615</td>\n",
       "      <td>0.514983</td>\n",
       "      <td>0.368926</td>\n",
       "      <td>0.000647</td>\n",
       "    </tr>\n",
       "    <tr>\n",
       "      <th>ACGATACCACTTCTGC-1-0</th>\n",
       "      <td>0.012737</td>\n",
       "      <td>0.002933</td>\n",
       "      <td>0.000110</td>\n",
       "      <td>0.005164</td>\n",
       "      <td>0.002966</td>\n",
       "      <td>0.923207</td>\n",
       "      <td>0.000273</td>\n",
       "      <td>0.000866</td>\n",
       "      <td>0.050827</td>\n",
       "      <td>0.000917</td>\n",
       "    </tr>\n",
       "  </tbody>\n",
       "</table>\n",
       "</div>"
      ],
      "text/plain": [
       "                       topic_0   topic_1   topic_2   topic_3   topic_4  \\\n",
       "AACGTTGAGAAGGACA-1-0  0.000076  0.000237  0.000039  0.000122  0.000207   \n",
       "AAGACCTAGCGATTCT-1-0  0.005141  0.001239  0.000024  0.339639  0.000676   \n",
       "AAGGCAGTCGGCCGAT-1-0  0.000160  0.000015  0.000002  0.000023  0.000093   \n",
       "ACGAGCCAGACCTAGG-1-0  0.000497  0.069345  0.000120  0.009453  0.008865   \n",
       "ACGATACCACTTCTGC-1-0  0.012737  0.002933  0.000110  0.005164  0.002966   \n",
       "\n",
       "                       topic_5   topic_6   topic_7   topic_8   topic_9  \n",
       "AACGTTGAGAAGGACA-1-0  0.645719  0.000076  0.000044  0.152500  0.200979  \n",
       "AAGACCTAGCGATTCT-1-0  0.057522  0.075478  0.013058  0.506585  0.000638  \n",
       "AAGGCAGTCGGCCGAT-1-0  0.998916  0.000070  0.000005  0.000383  0.000333  \n",
       "ACGAGCCAGACCTAGG-1-0  0.001548  0.025615  0.514983  0.368926  0.000647  \n",
       "ACGATACCACTTCTGC-1-0  0.923207  0.000273  0.000866  0.050827  0.000917  "
      ]
     },
     "execution_count": 31,
     "metadata": {},
     "output_type": "execute_result"
    }
   ],
   "source": [
    "topic_prop = model.get_latent_representation()\n",
    "topic_prop.head()"
   ]
  },
  {
   "cell_type": "markdown",
   "id": "143039cc-e031-4415-a5e1-7aa44b20a1ae",
   "metadata": {},
   "source": [
    "### Save topic proportions in obsm and obs columns."
   ]
  },
  {
   "cell_type": "code",
   "execution_count": 32,
   "id": "75fccac1",
   "metadata": {},
   "outputs": [],
   "source": [
    "adata.obsm[\"X_LDA\"] = topic_prop\n",
    "for i in range(n_topics):\n",
    "    adata.obs[f\"LDA_topic_{i}\"] = topic_prop[[f\"topic_{i}\"]]"
   ]
  },
  {
   "cell_type": "markdown",
   "id": "e65a0fa7-137d-48c8-b5c9-9d567f168e7e",
   "metadata": {},
   "source": [
    "## Find top genes per topic"
   ]
  },
  {
   "cell_type": "code",
   "execution_count": 36,
   "id": "103ccc79",
   "metadata": {},
   "outputs": [],
   "source": [
    "feature_by_topic = model.get_feature_by_topic()\n",
    "feature_by_topic.head()\n",
    "feature_by_topic.to_csv(\"Results/Feature_by_topic.csv\", index=False)"
   ]
  },
  {
   "cell_type": "code",
   "execution_count": 39,
   "id": "332d717f",
   "metadata": {},
   "outputs": [],
   "source": [
    "rank_by_topic = pd.DataFrame()\n",
    "for i in range(n_topics):\n",
    "    topic_name = f\"topic_{i}\"\n",
    "    topic = feature_by_topic[topic_name].sort_values(ascending=False)\n",
    "    rank_by_topic[topic_name] = topic.index\n",
    "    rank_by_topic[f\"{topic_name}_prop\"] = topic.values"
   ]
  },
  {
   "cell_type": "markdown",
   "id": "908bd723-05f9-4376-9518-944000d5d93a",
   "metadata": {},
   "source": [
    "## Save rank by topic data"
   ]
  },
  {
   "cell_type": "code",
   "execution_count": 40,
   "id": "eb72616d",
   "metadata": {},
   "outputs": [],
   "source": [
    "rank_by_topic.head()\n",
    "rank_by_topic.to_csv(\"../results/Rank_by_topic.csv\", index=False)"
   ]
  },
  {
   "cell_type": "markdown",
   "id": "31903634-5974-49fd-950d-7a1bc4b10958",
   "metadata": {},
   "source": [
    "# END"
   ]
  },
  {
   "cell_type": "code",
   "execution_count": null,
   "id": "6990ed73-d199-4423-8345-b30dee9e4239",
   "metadata": {},
   "outputs": [],
   "source": []
  }
 ],
 "metadata": {
  "anaconda-cloud": {},
  "kernelspec": {
   "display_name": "Hackin_Omics",
   "language": "python",
   "name": "hackin_omics"
  },
  "language_info": {
   "codemirror_mode": {
    "name": "ipython",
    "version": 3
   },
   "file_extension": ".py",
   "mimetype": "text/x-python",
   "name": "python",
   "nbconvert_exporter": "python",
   "pygments_lexer": "ipython3",
   "version": "3.10.5"
  }
 },
 "nbformat": 4,
 "nbformat_minor": 5
}
