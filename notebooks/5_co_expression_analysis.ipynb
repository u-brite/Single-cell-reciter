{
 "cells": [
  {
   "cell_type": "markdown",
   "metadata": {},
   "source": [
    "# Co-Expression Analysis"
   ]
  },
  {
   "cell_type": "markdown",
   "metadata": {},
   "source": [
    "--> Add a description HERE!"
   ]
  },
  {
   "cell_type": "markdown",
   "metadata": {},
   "source": [
    "## Import libraries"
   ]
  },
  {
   "cell_type": "code",
   "execution_count": null,
   "metadata": {},
   "outputs": [],
   "source": [
    "import PyWGCNA\n",
    "\n",
    "import pyspark.sql.functions as F\n",
    "import pyspark.sql.types as T\n",
    "\n",
    "from pyspark.sql import SparkSession"
   ]
  },
  {
   "cell_type": "markdown",
   "metadata": {},
   "source": [
    "## Setup spark session"
   ]
  },
  {
   "cell_type": "code",
   "execution_count": null,
   "metadata": {},
   "outputs": [],
   "source": [
    "spark = (\n",
    "    SparkSession.builder\n",
    "    .config(\"spark.driver.memory\", \"20g\")\n",
    "    .config(\"spark.sql.execution.arrow.pyspark.enabled\", \"true\")\n",
    "    .appName(\"single-cell-reciter-job\")\n",
    "    .master(\"local[*]\")\n",
    "    .getOrCreate()\n",
    ")"
   ]
  },
  {
   "cell_type": "code",
   "execution_count": null,
   "metadata": {},
   "outputs": [],
   "source": [
    "spark"
   ]
  },
  {
   "cell_type": "markdown",
   "metadata": {},
   "source": [
    "## Load the data"
   ]
  },
  {
   "cell_type": "code",
   "execution_count": null,
   "metadata": {},
   "outputs": [],
   "source": [
    "data = spark.read.parquet('./Results/parquets/rank_by_topic')"
   ]
  },
  {
   "cell_type": "code",
   "execution_count": null,
   "metadata": {},
   "outputs": [],
   "source": [
    "data.show()"
   ]
  },
  {
   "cell_type": "code",
   "execution_count": null,
   "metadata": {},
   "outputs": [],
   "source": [
    "data.count()"
   ]
  },
  {
   "cell_type": "code",
   "execution_count": null,
   "metadata": {},
   "outputs": [],
   "source": [
    "topic_list = []\n",
    "col_names = [x[0] for x in data.select('topic_0').toLocalIterator()]\n",
    "\n",
    "schema = T.StructType(\n",
    "    [T.StructField(name, T.DoubleType(), False) for name in col_names]\n",
    "    )\n",
    "\n",
    "df_base = spark.createDataFrame([], schema=schema)"
   ]
  },
  {
   "cell_type": "code",
   "execution_count": null,
   "metadata": {},
   "outputs": [],
   "source": [
    "for i in range(10):\n",
    "    topic_list.append(f'topic_{i}')\n",
    "    col_list = [col for col in data.columns if f'{i}' in col]\n",
    "    #col_names = [x[0] for x in data.select(col_list[0]).toLocalIterator()]\n",
    "    #values = [x[0] for x in data.select(col_list[1]).toLocalIterator()]\n",
    "    df_base = df_base.unionByName(spark.createDataFrame([[x[0] for x in data.select(col_list[1]).toLocalIterator()],], [x[0] for x in data.select(col_list[0]).toLocalIterator()]))"
   ]
  },
  {
   "cell_type": "code",
   "execution_count": null,
   "metadata": {},
   "outputs": [],
   "source": [
    "df_base.write.parquet(\"../results/base.parquet\")"
   ]
  },
  {
   "cell_type": "code",
   "execution_count": null,
   "metadata": {},
   "outputs": [],
   "source": [
    "df_base.count()"
   ]
  },
  {
   "cell_type": "code",
   "execution_count": null,
   "metadata": {},
   "outputs": [],
   "source": [
    "len(df_base.columns)"
   ]
  },
  {
   "cell_type": "markdown",
   "metadata": {},
   "source": [
    "## Analysis"
   ]
  },
  {
   "cell_type": "markdown",
   "metadata": {},
   "source": [
    "### Load the data"
   ]
  },
  {
   "cell_type": "code",
   "execution_count": null,
   "metadata": {},
   "outputs": [],
   "source": [
    "data = spark.read.parquet(\"../results/base.parquet\")"
   ]
  },
  {
   "cell_type": "code",
   "execution_count": null,
   "metadata": {},
   "outputs": [],
   "source": [
    "pd_df= data.toPandas()"
   ]
  },
  {
   "cell_type": "code",
   "execution_count": null,
   "metadata": {},
   "outputs": [],
   "source": [
    "transposed_data = pd_df.T"
   ]
  },
  {
   "cell_type": "code",
   "execution_count": null,
   "metadata": {},
   "outputs": [],
   "source": [
    "transposed_data = transposed_data.reset_index()"
   ]
  },
  {
   "cell_type": "markdown",
   "metadata": {},
   "source": [
    "### Create a PyWGCNA object"
   ]
  },
  {
   "cell_type": "code",
   "execution_count": null,
   "metadata": {},
   "outputs": [],
   "source": [
    "# Not necessary\n",
    "expression_matrix = PyWGCNA.geneExp.GeneExp(species='human', level='transcript', geneExp=transposed_data)"
   ]
  },
  {
   "cell_type": "code",
   "execution_count": null,
   "metadata": {},
   "outputs": [],
   "source": [
    "# create a PyWGCNA object\n",
    "scc = PyWGCNA.WGCNA(name='SCC', species='human', geneExp=transposed_data, save=True, TPMcutoff=1)"
   ]
  },
  {
   "cell_type": "code",
   "execution_count": null,
   "metadata": {},
   "outputs": [],
   "source": [
    "scc.geneExpr.to_df().head(5)"
   ]
  },
  {
   "cell_type": "markdown",
   "metadata": {},
   "source": [
    "### Pre-processing"
   ]
  },
  {
   "cell_type": "code",
   "execution_count": null,
   "metadata": {},
   "outputs": [],
   "source": [
    "scc.preprocess()"
   ]
  },
  {
   "cell_type": "markdown",
   "metadata": {},
   "source": [
    "With TPMcutoff = 1 (default):\n",
    "\n",
    "Output:\n",
    "Pre-processing...\n",
    "\tDetecting genes and samples with too many missing values...\n",
    "An exception has occurred, use %tb to see the full traceback.\n",
    "\n",
    "SystemExit: Too few genes with valid expression levels in the required number of samples."
   ]
  },
  {
   "cell_type": "markdown",
   "metadata": {},
   "source": [
    "With TPMcutoff = 0 : \n",
    "\n",
    "ValueError: Image size of 138900x1000 pixels is too large. It must be less than 2^16 in each direction.\n",
    "\n",
    "--> Set save=False\n",
    "\n",
    "--> Same error..."
   ]
  },
  {
   "cell_type": "markdown",
   "metadata": {},
   "source": [
    "### Gene network"
   ]
  },
  {
   "cell_type": "code",
   "execution_count": null,
   "metadata": {},
   "outputs": [],
   "source": [
    "scc.findModules()"
   ]
  },
  {
   "cell_type": "raw",
   "metadata": {},
   "source": [
    "Output Error:\n",
    "\n",
    "pickSoftThreshold: calculating connectivity for given powers...\n",
    "will use block size  10\n",
    "    Power  SFT.R.sq     slope truncated R.sq   mean(k) median(k)    max(k)\n",
    "0       1  0.025756 -1.888849      -0.245901  2.423623  2.394248  4.032214\n",
    "1       2  0.043974 -2.227589      -0.117685   1.14424  1.095822  2.523472\n",
    "2       3  0.040749  -1.99345      -0.023285  0.673933  0.599128  1.767556\n",
    "3       4  0.115471 -2.620229      -0.037847  0.444091  0.354735  1.304041\n",
    "4       5  0.221657 -2.984862       0.008419  0.312456  0.210569  0.996047\n",
    "5       6  0.214669 -2.443941       0.002519  0.229814  0.127649  0.782763\n",
    "6       7  0.243961 -2.229504       0.028316   0.17485  0.079155  0.637211\n",
    "7       8  0.339189 -5.449622       0.246182  0.136765  0.049951  0.530842\n",
    "8       9  0.191557 -4.015718       0.240433  0.109499  0.031955  0.448026\n",
    "9      10  0.274013 -4.586125       0.325679   0.08942  0.020662  0.382071\n",
    "10     11  0.303277 -4.453046       0.356147  0.074251  0.013472   0.32856\n",
    "11     13  0.350757 -4.125467       0.412377  0.053247  0.005835  0.247653\n",
    "12     15   0.22141 -3.128534       0.673018  0.039652  0.002571  0.190089\n",
    "13     17  0.249876 -2.995251       0.663947  0.030257  0.001146  0.147666\n",
    "14     19  0.273438 -2.847523       0.655862  0.023446  0.000516  0.115619\n",
    "No power detected to have scale free network!\n",
    "Found the best given power which is 13.\n",
    "calculating adjacency matrix ...\n",
    "\tDone..\n",
    "\n",
    "calculating TOM similarity matrix ...\n",
    "\tDone..\n",
    "\n",
    "Going through the merge tree...\n",
    "..cutHeight not given, setting it to 0.998  ===>  99% of the (truncated) height range in dendro.\n",
    "cutHeight set too low: no merges below the cut.\n"
   ]
  },
  {
   "cell_type": "markdown",
   "metadata": {},
   "source": []
  }
 ],
 "metadata": {
  "kernelspec": {
   "display_name": "Python 3.10.4 ('.venv': venv)",
   "language": "python",
   "name": "python3"
  },
  "language_info": {
   "codemirror_mode": {
    "name": "ipython",
    "version": 3
   },
   "file_extension": ".py",
   "mimetype": "text/x-python",
   "name": "python",
   "nbconvert_exporter": "python",
   "pygments_lexer": "ipython3",
   "version": "3.10.4"
  },
  "orig_nbformat": 4,
  "vscode": {
   "interpreter": {
    "hash": "9d0a4b25381b8171f8e7a39587811c63e9e6c535866893d58ff9a1cc5760fb2a"
   }
  }
 },
 "nbformat": 4,
 "nbformat_minor": 2
}
