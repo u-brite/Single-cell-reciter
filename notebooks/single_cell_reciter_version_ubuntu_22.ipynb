{
 "cells": [
  {
   "cell_type": "markdown",
   "metadata": {},
   "source": [
    "# Single-Cell-Reciter"
   ]
  },
  {
   "cell_type": "markdown",
   "metadata": {},
   "source": [
    "## Import the libraries"
   ]
  },
  {
   "cell_type": "code",
   "execution_count": null,
   "metadata": {},
   "outputs": [],
   "source": [
    "import os\n",
    "import anndata\n",
    "import scvi\n",
    "import logging\n",
    "import numpy as np\n",
    "import pandas as pd\n",
    "import scanpy as sc\n",
    "import scrublet as scr\n",
    "import matplotlib.pyplot as plt\n",
    "\n",
    "from glob import glob\n",
    "from pathlib import Path"
   ]
  },
  {
   "cell_type": "markdown",
   "metadata": {},
   "source": [
    "## Settings"
   ]
  },
  {
   "cell_type": "markdown",
   "metadata": {},
   "source": [
    "### scvi settings"
   ]
  },
  {
   "cell_type": "code",
   "execution_count": null,
   "metadata": {},
   "outputs": [],
   "source": [
    "scvi.settings.seed = 1"
   ]
  },
  {
   "cell_type": "code",
   "execution_count": null,
   "metadata": {},
   "outputs": [],
   "source": [
    "scvi.settings.progress_bar_style = \"rich\""
   ]
  },
  {
   "cell_type": "code",
   "execution_count": null,
   "metadata": {},
   "outputs": [],
   "source": [
    "scvi.settings.verbosity = logging.INFO"
   ]
  },
  {
   "cell_type": "code",
   "execution_count": null,
   "metadata": {},
   "outputs": [],
   "source": [
    "scvi.settings.dl_pin_memory_gpu_training = True"
   ]
  },
  {
   "cell_type": "code",
   "execution_count": null,
   "metadata": {},
   "outputs": [],
   "source": [
    "scvi.settings.num_threads = 20"
   ]
  },
  {
   "cell_type": "code",
   "execution_count": null,
   "metadata": {},
   "outputs": [],
   "source": [
    "scvi.settings.jax_preallocate_gpu_memory = False"
   ]
  },
  {
   "cell_type": "markdown",
   "metadata": {},
   "source": [
    "### scanpy settings"
   ]
  },
  {
   "cell_type": "code",
   "execution_count": null,
   "metadata": {},
   "outputs": [],
   "source": [
    "sc.settings.verbosity = 3"
   ]
  },
  {
   "cell_type": "code",
   "execution_count": null,
   "metadata": {},
   "outputs": [],
   "source": [
    "sc.settings.set_figure_params(dpi=150)"
   ]
  },
  {
   "cell_type": "markdown",
   "metadata": {},
   "source": [
    "### Output directory"
   ]
  },
  {
   "cell_type": "code",
   "execution_count": null,
   "metadata": {},
   "outputs": [],
   "source": [
    "Result_dir = \"Results/\"\n",
    "Path(Result_dir).mkdir(parents=True, exist_ok=True)\n",
    "\n",
    "results_file = Result_dir + 'SCC.h5ad'  # the file that will store the analysis results"
   ]
  },
  {
   "cell_type": "markdown",
   "metadata": {},
   "source": [
    "## Load datasets"
   ]
  },
  {
   "cell_type": "markdown",
   "metadata": {},
   "source": [
    "### Check local directory"
   ]
  },
  {
   "cell_type": "code",
   "execution_count": null,
   "metadata": {},
   "outputs": [],
   "source": [
    "!ls ../filtered_feature_bc_matrix_h5/*"
   ]
  },
  {
   "cell_type": "markdown",
   "metadata": {},
   "source": [
    "### SCC Datasets"
   ]
  },
  {
   "cell_type": "code",
   "execution_count": null,
   "metadata": {},
   "outputs": [],
   "source": [
    "data_SCC_P8_1 = sc.read_10x_h5(\"../filtered_feature_bc_matrix_h5/P8_1_cSCC.h5\")\n",
    "data_SCC_P8_1.var_names_make_unique()\n",
    "data_SCC_P8_1.obs['type'] = 'SCC'\n",
    "data_SCC_P8_1.obs['sample'] = 'SCC_P8_1'\n",
    "\n",
    "data_SCC_P8_2 = sc.read_10x_h5(\"../filtered_feature_bc_matrix_h5/P8_2_cSCC.h5\")\n",
    "data_SCC_P8_2.var_names_make_unique()\n",
    "data_SCC_P8_2.obs['type'] = 'SCC'\n",
    "data_SCC_P8_2.obs['sample'] = 'SCC_P8_2'\n",
    "\n",
    "data_SCC_P7 = sc.read_10x_h5(\"../filtered_feature_bc_matrix_h5/P7_cSCC.h5\")\n",
    "data_SCC_P7.var_names_make_unique()\n",
    "data_SCC_P7.obs['type'] = 'SCC'\n",
    "data_SCC_P7.obs['sample'] = 'SCC_P7'\n",
    "\n",
    "data_SCC_P3_1 = sc.read_10x_h5(\"../filtered_feature_bc_matrix_h5/P3_1_cSCC.h5\")\n",
    "data_SCC_P3_1.var_names_make_unique()\n",
    "data_SCC_P3_1.obs['type'] = 'SCC'\n",
    "data_SCC_P3_1.obs['sample'] = 'SCC_P3_1'\n",
    "\n",
    "data_SCC_P2 = sc.read_10x_h5(\"../filtered_feature_bc_matrix_h5/P2_cSCC.h5\")\n",
    "data_SCC_P2.var_names_make_unique()\n",
    "data_SCC_P2.obs['type'] = 'SCC'\n",
    "data_SCC_P2.obs['sample'] = 'SCC_P2'\n",
    "\n",
    "data_SCC_P5 = sc.read_10x_h5(\"../filtered_feature_bc_matrix_h5/P5_cSCC.h5\")\n",
    "data_SCC_P5.var_names_make_unique()\n",
    "data_SCC_P5.obs['type'] = 'SCC'\n",
    "data_SCC_P5.obs['sample'] = 'SCC_P5'\n",
    "\n",
    "data_SCC_P3_2 = sc.read_10x_h5(\"../filtered_feature_bc_matrix_h5/P3_2_cSCC.h5\")\n",
    "data_SCC_P3_2.var_names_make_unique()\n",
    "data_SCC_P3_2.obs['type'] = 'SCC'\n",
    "data_SCC_P3_2.obs['sample'] = 'SCC_P3_2'\n",
    "\n",
    "data_SCC_P4 = sc.read_10x_h5(\"../filtered_feature_bc_matrix_h5/P4_cSCC.h5\")\n",
    "data_SCC_P4.var_names_make_unique()\n",
    "data_SCC_P4.obs['type'] = 'SCC'\n",
    "data_SCC_P4.obs['sample'] = 'SCC_P4'\n",
    "\n",
    "data_SCC_P1_2 = sc.read_10x_h5(\"../filtered_feature_bc_matrix_h5/P1_2_cSCC.h5\")\n",
    "data_SCC_P1_2.var_names_make_unique()\n",
    "data_SCC_P1_2.obs['type'] = 'SCC'\n",
    "data_SCC_P1_2.obs['sample'] = 'SCC_P1_2'\n",
    "\n",
    "data_SCC_P9 = sc.read_10x_h5(\"../filtered_feature_bc_matrix_h5/P9_cSCC.h5\")\n",
    "data_SCC_P9.var_names_make_unique()\n",
    "data_SCC_P9.obs['type'] = 'SCC'\n",
    "data_SCC_P9.obs['sample'] = 'SCC_P9'\n",
    "\n",
    "data_SCC_P10 = sc.read_10x_h5(\"../filtered_feature_bc_matrix_h5/P10_cSCC.h5\")\n",
    "data_SCC_P10.var_names_make_unique()\n",
    "data_SCC_P10.obs['type'] = 'SCC'\n",
    "data_SCC_P10.obs['sample'] = 'SCC_P10'\n",
    "\n",
    "data_SCC_P1_1 = sc.read_10x_h5(\"../filtered_feature_bc_matrix_h5/P1_1_cSCC.h5\")\n",
    "data_SCC_P1_1.var_names_make_unique()\n",
    "data_SCC_P1_1.obs['type'] = 'SCC'\n",
    "data_SCC_P1_1.obs['sample'] = 'SCC_P1_1'\n",
    "\n",
    "data_SCC_P6 = sc.read_10x_h5(\"../filtered_feature_bc_matrix_h5/P6_cSCC.h5\")\n",
    "data_SCC_P6.var_names_make_unique()\n",
    "data_SCC_P6.obs['type'] = 'SCC'\n",
    "data_SCC_P6.obs['sample'] = 'SCC_P6'"
   ]
  },
  {
   "cell_type": "markdown",
   "metadata": {},
   "source": [
    "### Normal Datasets"
   ]
  },
  {
   "cell_type": "code",
   "execution_count": null,
   "metadata": {},
   "outputs": [],
   "source": [
    "data_nrl_P4 = sc.read_10x_h5(\"../filtered_feature_bc_matrix_h5/P4.h5\")\n",
    "data_nrl_P4.var_names_make_unique()\n",
    "data_nrl_P4.obs['type'] = 'Normal'\n",
    "data_nrl_P4.obs['sample'] = 'nrl_P4'\n",
    "\n",
    "data_nrl_P1_1 = sc.read_10x_h5(\"../filtered_feature_bc_matrix_h5/P1_1.h5\")\n",
    "data_nrl_P1_1.var_names_make_unique()\n",
    "data_nrl_P1_1.obs['type'] = 'Normal'\n",
    "data_nrl_P1_1.obs['sample'] = 'nrl_P1_1'\n",
    "\n",
    "data_nrl_P10 = sc.read_10x_h5(\"../filtered_feature_bc_matrix_h5/P10.h5\")\n",
    "data_nrl_P10.var_names_make_unique()\n",
    "data_nrl_P10.obs['type'] = 'Normal'\n",
    "data_nrl_P10.obs['sample'] = 'nrl_P10'\n",
    "\n",
    "data_nrl_P3 = sc.read_10x_h5(\"../filtered_feature_bc_matrix_h5/P3.h5\")\n",
    "data_nrl_P3.var_names_make_unique()\n",
    "data_nrl_P3.obs['type'] = 'Normal'\n",
    "data_nrl_P3.obs['sample'] = 'nrl_P3'\n",
    "\n",
    "data_nrl_P2 = sc.read_10x_h5(\"../filtered_feature_bc_matrix_h5/P2.h5\")\n",
    "data_nrl_P2.var_names_make_unique()\n",
    "data_nrl_P2.obs['type'] = 'Normal'\n",
    "data_nrl_P2.obs['sample'] = 'nrl_P2'\n",
    "\n",
    "data_nrl_P9 = sc.read_10x_h5(\"../filtered_feature_bc_matrix_h5/P9.h5\")\n",
    "data_nrl_P9.var_names_make_unique()\n",
    "data_nrl_P9.obs['type'] = 'Normal'\n",
    "data_nrl_P9.obs['sample'] = 'nrl_P9'\n",
    "\n",
    "data_nrl_P8 = sc.read_10x_h5(\"../filtered_feature_bc_matrix_h5/P8.h5\")\n",
    "data_nrl_P8.var_names_make_unique()\n",
    "data_nrl_P8.obs['type'] = 'Normal'\n",
    "data_nrl_P8.obs['sample'] = 'nrl_P8'\n",
    "\n",
    "data_nrl_P7 = sc.read_10x_h5(\"../filtered_feature_bc_matrix_h5/P7.h5\")\n",
    "data_nrl_P7.var_names_make_unique()\n",
    "data_nrl_P7.obs['type'] = 'Normal'\n",
    "data_nrl_P7.obs['sample'] = 'nrl_P7'\n",
    "\n",
    "data_nrl_P6 = sc.read_10x_h5(\"../filtered_feature_bc_matrix_h5/P6.h5\")\n",
    "data_nrl_P6.var_names_make_unique()\n",
    "data_nrl_P6.obs['type'] = 'Normal'\n",
    "data_nrl_P6.obs['sample'] = 'nrl_P6'\n",
    "\n",
    "data_nrl_P5 = sc.read_10x_h5(\"../filtered_feature_bc_matrix_h5/P5.h5\")\n",
    "data_nrl_P5.var_names_make_unique()\n",
    "data_nrl_P5.obs['type'] = 'Normal'\n",
    "data_nrl_P5.obs['sample'] = 'nrl_P5'"
   ]
  },
  {
   "cell_type": "markdown",
   "metadata": {},
   "source": [
    "### Merge Datasets"
   ]
  },
  {
   "cell_type": "code",
   "execution_count": null,
   "metadata": {},
   "outputs": [],
   "source": [
    "%%time\n",
    "\n",
    "adata = data_SCC_P1_1.concatenate(data_SCC_P10, data_SCC_P1_2, data_SCC_P2, data_SCC_P3_1, data_SCC_P3_2, \n",
    "                                  data_SCC_P4, data_SCC_P5, data_SCC_P6, data_SCC_P7, data_SCC_P8_1, \n",
    "                                  data_SCC_P8_2, data_SCC_P9, data_nrl_P10, data_nrl_P1_1, data_nrl_P2, \n",
    "                                  data_nrl_P3, data_nrl_P4, data_nrl_P5, data_nrl_P6, data_nrl_P7, \n",
    "                                  data_nrl_P8, data_nrl_P9)\n",
    "\n",
    "# and delete individual datasets to save space\n",
    "del(data_SCC_P10, data_SCC_P1_1, data_SCC_P1_2, data_SCC_P2, \n",
    "    data_SCC_P3_1, data_SCC_P3_2, data_SCC_P4, data_SCC_P5, \n",
    "    data_SCC_P6, data_SCC_P7, data_SCC_P8_1, data_SCC_P8_2, \n",
    "    data_SCC_P9, data_nrl_P10, data_nrl_P1_1, data_nrl_P2, \n",
    "    data_nrl_P3, data_nrl_P4, data_nrl_P5, data_nrl_P6, \n",
    "    data_nrl_P7, data_nrl_P8, data_nrl_P9)\n"
   ]
  },
  {
   "cell_type": "markdown",
   "metadata": {},
   "source": [
    "### Save merged dataset"
   ]
  },
  {
   "cell_type": "code",
   "execution_count": null,
   "metadata": {},
   "outputs": [],
   "source": [
    "adata.write(results_file)"
   ]
  },
  {
   "cell_type": "code",
   "execution_count": null,
   "metadata": {},
   "outputs": [],
   "source": [
    "print(adata.obs['sample'].value_counts())\n",
    "\n",
    "adata"
   ]
  },
  {
   "cell_type": "markdown",
   "metadata": {},
   "source": [
    "## Calculate QC"
   ]
  },
  {
   "cell_type": "markdown",
   "metadata": {},
   "source": [
    "### Settings"
   ]
  },
  {
   "cell_type": "code",
   "execution_count": null,
   "metadata": {},
   "outputs": [],
   "source": [
    "sc.set_figure_params(figsize=(4, 4))\n",
    "\n",
    "%config InlineBackend.print_figure_kwargs={'facecolor' : \"w\"}\n",
    "%config InlineBackend.figure_format='retina'"
   ]
  },
  {
   "cell_type": "markdown",
   "metadata": {},
   "source": [
    "### Data"
   ]
  },
  {
   "cell_type": "code",
   "execution_count": null,
   "metadata": {},
   "outputs": [],
   "source": [
    "adata = sc.read(\"Results/SCC.h5ad\")\n",
    "adata"
   ]
  },
  {
   "cell_type": "code",
   "execution_count": null,
   "metadata": {},
   "outputs": [],
   "source": [
    "print(adata.obs['sample'].value_counts())\n",
    "\n",
    "adata"
   ]
  },
  {
   "cell_type": "markdown",
   "metadata": {},
   "source": [
    "### Analysis"
   ]
  },
  {
   "cell_type": "code",
   "execution_count": null,
   "metadata": {},
   "outputs": [],
   "source": [
    "sc.pp.filter_cells(adata, min_genes=200)\n",
    "sc.pp.filter_genes(adata, min_cells=3)"
   ]
  },
  {
   "cell_type": "code",
   "execution_count": null,
   "metadata": {},
   "outputs": [],
   "source": [
    "adata.var['mt'] = adata.var_names.str.startswith('MT-')  # annotate the group of mitochondrial genes as 'mt'\n",
    "sc.pp.calculate_qc_metrics(adata, qc_vars=['mt'], percent_top=None, log1p=False, inplace=True)"
   ]
  },
  {
   "cell_type": "code",
   "execution_count": null,
   "metadata": {},
   "outputs": [],
   "source": [
    "sc.pl.violin(adata, ['n_genes_by_counts', 'total_counts', 'pct_counts_mt'],\n",
    "             jitter=0.4, multi_panel=True)"
   ]
  },
  {
   "cell_type": "code",
   "execution_count": null,
   "metadata": {},
   "outputs": [],
   "source": [
    "sc.pl.scatter(adata, x='total_counts', y='pct_counts_mt')\n",
    "sc.pl.scatter(adata, x='total_counts', y='n_genes_by_counts')"
   ]
  },
  {
   "cell_type": "code",
   "execution_count": null,
   "metadata": {},
   "outputs": [],
   "source": [
    "adata = adata[adata.obs.n_genes_by_counts < 2500, :]\n",
    "adata = adata[adata.obs.pct_counts_mt < 5, :]"
   ]
  },
  {
   "cell_type": "code",
   "execution_count": null,
   "metadata": {},
   "outputs": [],
   "source": [
    "adata.layers[\"counts\"] = adata.X.copy()"
   ]
  },
  {
   "cell_type": "markdown",
   "metadata": {},
   "source": [
    "## Amortized LDA"
   ]
  },
  {
   "cell_type": "code",
   "execution_count": null,
   "metadata": {},
   "outputs": [],
   "source": [
    "n_topics = 10\n",
    "\n",
    "scvi.model.AmortizedLDA.setup_anndata(adata, layer = \"counts\")\n",
    "model = scvi.model.AmortizedLDA(adata, n_topics = n_topics)"
   ]
  },
  {
   "cell_type": "code",
   "execution_count": null,
   "metadata": {},
   "outputs": [],
   "source": [
    "scvi.model.AmortizedLDA(adata, n_topics = n_topics)"
   ]
  },
  {
   "cell_type": "code",
   "execution_count": null,
   "metadata": {},
   "outputs": [],
   "source": [
    "model.train()"
   ]
  },
  {
   "cell_type": "code",
   "execution_count": null,
   "metadata": {},
   "outputs": [],
   "source": [
    "model.save(\"./Results/SCC_Topic_model/\")"
   ]
  },
  {
   "cell_type": "code",
   "execution_count": null,
   "metadata": {},
   "outputs": [],
   "source": [
    "topic_prop = model.get_latent_representation()\n",
    "topic_prop.head()"
   ]
  },
  {
   "cell_type": "code",
   "execution_count": null,
   "metadata": {},
   "outputs": [],
   "source": [
    "topic_prop"
   ]
  },
  {
   "cell_type": "code",
   "execution_count": null,
   "metadata": {},
   "outputs": [],
   "source": [
    "topic_prop.to_parquet(\"./Results/parquets/topic_prop\")"
   ]
  },
  {
   "cell_type": "markdown",
   "metadata": {},
   "source": [
    "## UMAP analyses"
   ]
  },
  {
   "cell_type": "code",
   "execution_count": null,
   "metadata": {},
   "outputs": [],
   "source": [
    "# Save topic proportions in obsm and obs columns.\n",
    "adata.obsm[\"X_LDA\"] = topic_prop\n",
    "for i in range(n_topics):\n",
    "    adata.obs[f\"LDA_topic_{i}\"] = topic_prop[[f\"topic_{i}\"]]"
   ]
  },
  {
   "cell_type": "markdown",
   "metadata": {},
   "source": [
    "### Raw counts umap"
   ]
  },
  {
   "cell_type": "code",
   "execution_count": null,
   "metadata": {},
   "outputs": [],
   "source": [
    "sc.tl.pca(adata, svd_solver=\"arpack\")\n",
    "sc.pp.neighbors(adata, n_pcs = 30, n_neighbors = 20)\n",
    "sc.tl.umap(adata)\n",
    "sc.tl.leiden(adata, key_added = \"leiden_scVI\", resolution = 0.8)\n",
    "\n",
    "# Save UMAP to custom .obsm field.\n",
    "adata.obsm[\"raw_counts_umap\"] = adata.obsm[\"X_umap\"].copy()"
   ]
  },
  {
   "cell_type": "code",
   "execution_count": null,
   "metadata": {},
   "outputs": [],
   "source": [
    "sc.pl.embedding(adata, \"raw_counts_umap\", color = [\"leiden_scVI\"], frameon=False)"
   ]
  },
  {
   "cell_type": "code",
   "execution_count": null,
   "metadata": {},
   "outputs": [],
   "source": [
    "sc.pl.embedding(adata, \"raw_counts_umap\", color = [f\"LDA_topic_{i}\" for i in range(n_topics)], frameon=False)"
   ]
  },
  {
   "cell_type": "markdown",
   "metadata": {},
   "source": [
    "### Topic space UMAP"
   ]
  },
  {
   "cell_type": "code",
   "execution_count": null,
   "metadata": {},
   "outputs": [],
   "source": [
    "sc.pp.neighbors(adata, use_rep=\"X_LDA\", n_neighbors = 20, metric=\"hellinger\")\n",
    "sc.tl.umap(adata)\n",
    "\n",
    "# Save UMAP to custom .obsm field.\n",
    "adata.obsm[\"topic_space_umap\"] = adata.obsm[\"X_umap\"].copy()"
   ]
  },
  {
   "cell_type": "code",
   "execution_count": null,
   "metadata": {},
   "outputs": [],
   "source": [
    "sc.pl.embedding(adata, \"topic_space_umap\", color = [f\"LDA_topic_{i}\" for i in range(n_topics)], frameon=False)"
   ]
  },
  {
   "cell_type": "markdown",
   "metadata": {},
   "source": [
    "### Feature by topic"
   ]
  },
  {
   "cell_type": "code",
   "execution_count": null,
   "metadata": {},
   "outputs": [],
   "source": [
    "feature_by_topic = model.get_feature_by_topic()\n",
    "feature_by_topic.head()"
   ]
  },
  {
   "cell_type": "code",
   "execution_count": null,
   "metadata": {},
   "outputs": [],
   "source": [
    "feature_by_topic.to_parquet(\"./Results/parquets/feature_by_topic\")"
   ]
  },
  {
   "cell_type": "markdown",
   "metadata": {},
   "source": [
    "### Rank by topic"
   ]
  },
  {
   "cell_type": "code",
   "execution_count": null,
   "metadata": {},
   "outputs": [],
   "source": [
    "rank_by_topic = pd.DataFrame()\n",
    "for i in range(n_topics):\n",
    "    topic_name = f\"topic_{i}\"\n",
    "    topic = feature_by_topic[topic_name].sort_values(ascending=False)\n",
    "    rank_by_topic[topic_name] = topic.index\n",
    "    rank_by_topic[f\"{topic_name}_prop\"] = topic.values"
   ]
  },
  {
   "cell_type": "code",
   "execution_count": null,
   "metadata": {},
   "outputs": [],
   "source": [
    "rank_by_topic.head()"
   ]
  },
  {
   "cell_type": "code",
   "execution_count": null,
   "metadata": {},
   "outputs": [],
   "source": [
    "rank_by_topic.to_parquet(\"./Results/parquets/rank_by_topic\")"
   ]
  },
  {
   "cell_type": "code",
   "execution_count": null,
   "metadata": {},
   "outputs": [],
   "source": []
  }
 ],
 "metadata": {
  "kernelspec": {
   "display_name": "Python 3.10.4 ('.venv': venv)",
   "language": "python",
   "name": "python3"
  },
  "language_info": {
   "codemirror_mode": {
    "name": "ipython",
    "version": 3
   },
   "file_extension": ".py",
   "mimetype": "text/x-python",
   "name": "python",
   "nbconvert_exporter": "python",
   "pygments_lexer": "ipython3",
   "version": "3.10.4"
  },
  "orig_nbformat": 4,
  "vscode": {
   "interpreter": {
    "hash": "9d0a4b25381b8171f8e7a39587811c63e9e6c535866893d58ff9a1cc5760fb2a"
   }
  }
 },
 "nbformat": 4,
 "nbformat_minor": 2
}
