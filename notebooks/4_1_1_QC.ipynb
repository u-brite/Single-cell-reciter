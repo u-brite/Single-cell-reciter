{
 "cells": [
  {
   "cell_type": "code",
   "execution_count": 1,
   "id": "a71fb99d-af60-46af-911e-99bada8c92f8",
   "metadata": {},
   "outputs": [],
   "source": [
    "import numpy as np\n",
    "import pandas as pd\n",
    "import scanpy as sc\n",
    "from glob import glob\n",
    "from pathlib import Path\n",
    "import scrublet as scr\n",
    "\n",
    "sc.settings.verbosity = 3"
   ]
  },
  {
   "cell_type": "code",
   "execution_count": 2,
   "id": "ebaf4cc3-c9f5-4275-96fb-bec82a279743",
   "metadata": {},
   "outputs": [],
   "source": [
    "sc.settings.set_figure_params(dpi=150)\n",
    "\n",
    "Result_dir = \"Results/\"\n",
    "Path(Result_dir).mkdir(parents=True, exist_ok=True)\n",
    "\n",
    "results_file = Result_dir + 'SCC.h5ad'  # the file that will store the analysis results\n",
    "\n",
    "\n",
    "# Fig_dir = \"Figures/\"\n",
    "# Path(Fig_dir).mkdir(parents=True, exist_ok=True)\n",
    "# Result_dir, Fig_dir"
   ]
  },
  {
   "cell_type": "markdown",
   "id": "060139ae-684f-4d21-91a8-84df0099b1e1",
   "metadata": {},
   "source": [
    "# Read Datasets"
   ]
  },
  {
   "cell_type": "code",
   "execution_count": 3,
   "id": "9cacaddb-e16c-4507-b666-f57df100300c",
   "metadata": {},
   "outputs": [],
   "source": [
    "OBJs = []"
   ]
  },
  {
   "cell_type": "markdown",
   "id": "5a031c94-5626-46e6-adff-f1f2c1d9e751",
   "metadata": {},
   "source": [
    "## SCC"
   ]
  },
  {
   "cell_type": "code",
   "execution_count": 4,
   "id": "e22cc02c-a339-454b-9bd0-e7bd74001dae",
   "metadata": {},
   "outputs": [
    {
     "name": "stdout",
     "output_type": "stream",
     "text": [
      "filtered_feature_bc_matrix_h5/P10_cSCC.h5\n",
      "filtered_feature_bc_matrix_h5/P1_1_cSCC.h5\n",
      "filtered_feature_bc_matrix_h5/P1_2_cSCC.h5\n",
      "filtered_feature_bc_matrix_h5/P2_cSCC.h5\n",
      "filtered_feature_bc_matrix_h5/P3_1_cSCC.h5\n",
      "filtered_feature_bc_matrix_h5/P3_2_cSCC.h5\n",
      "filtered_feature_bc_matrix_h5/P4_cSCC.h5\n",
      "filtered_feature_bc_matrix_h5/P5_cSCC.h5\n",
      "filtered_feature_bc_matrix_h5/P6_cSCC.h5\n",
      "filtered_feature_bc_matrix_h5/P7_cSCC.h5\n",
      "filtered_feature_bc_matrix_h5/P8_1_cSCC.h5\n",
      "filtered_feature_bc_matrix_h5/P8_2_cSCC.h5\n",
      "filtered_feature_bc_matrix_h5/P9_cSCC.h5\n"
     ]
    }
   ],
   "source": [
    "!ls filtered_feature_bc_matrix_h5/*cSCC* "
   ]
  },
  {
   "cell_type": "code",
   "execution_count": 5,
   "id": "e2de3ec8-c3e6-436a-a151-02b6f6c8533a",
   "metadata": {},
   "outputs": [
    {
     "name": "stdout",
     "output_type": "stream",
     "text": [
      "reading filtered_feature_bc_matrix_h5/P8_1_cSCC.h5\n",
      " (0:00:00)\n",
      "reading filtered_feature_bc_matrix_h5/P8_2_cSCC.h5\n"
     ]
    },
    {
     "name": "stderr",
     "output_type": "stream",
     "text": [
      "/home/nileshkr/.conda/envs/Hackin_Omics/lib/python3.10/site-packages/anndata/_core/anndata.py:1830: UserWarning: Variable names are not unique. To make them unique, call `.var_names_make_unique`.\n",
      "  utils.warn_names_duplicates(\"var\")\n"
     ]
    },
    {
     "name": "stdout",
     "output_type": "stream",
     "text": [
      " (0:00:00)\n",
      "reading filtered_feature_bc_matrix_h5/P7_cSCC.h5\n"
     ]
    },
    {
     "name": "stderr",
     "output_type": "stream",
     "text": [
      "/home/nileshkr/.conda/envs/Hackin_Omics/lib/python3.10/site-packages/anndata/_core/anndata.py:1830: UserWarning: Variable names are not unique. To make them unique, call `.var_names_make_unique`.\n",
      "  utils.warn_names_duplicates(\"var\")\n"
     ]
    },
    {
     "name": "stdout",
     "output_type": "stream",
     "text": [
      " (0:00:00)\n",
      "reading filtered_feature_bc_matrix_h5/P3_1_cSCC.h5\n",
      " (0:00:00)\n"
     ]
    },
    {
     "name": "stderr",
     "output_type": "stream",
     "text": [
      "/home/nileshkr/.conda/envs/Hackin_Omics/lib/python3.10/site-packages/anndata/_core/anndata.py:1830: UserWarning: Variable names are not unique. To make them unique, call `.var_names_make_unique`.\n",
      "  utils.warn_names_duplicates(\"var\")\n",
      "/home/nileshkr/.conda/envs/Hackin_Omics/lib/python3.10/site-packages/anndata/_core/anndata.py:1830: UserWarning: Variable names are not unique. To make them unique, call `.var_names_make_unique`.\n",
      "  utils.warn_names_duplicates(\"var\")\n"
     ]
    },
    {
     "name": "stdout",
     "output_type": "stream",
     "text": [
      "reading filtered_feature_bc_matrix_h5/P2_cSCC.h5\n",
      " (0:00:00)\n",
      "reading filtered_feature_bc_matrix_h5/P5_cSCC.h5\n"
     ]
    },
    {
     "name": "stderr",
     "output_type": "stream",
     "text": [
      "/home/nileshkr/.conda/envs/Hackin_Omics/lib/python3.10/site-packages/anndata/_core/anndata.py:1830: UserWarning: Variable names are not unique. To make them unique, call `.var_names_make_unique`.\n",
      "  utils.warn_names_duplicates(\"var\")\n"
     ]
    },
    {
     "name": "stdout",
     "output_type": "stream",
     "text": [
      " (0:00:00)\n",
      "reading filtered_feature_bc_matrix_h5/P3_2_cSCC.h5\n",
      " (0:00:00)\n",
      "reading filtered_feature_bc_matrix_h5/P4_cSCC.h5\n"
     ]
    },
    {
     "name": "stderr",
     "output_type": "stream",
     "text": [
      "/home/nileshkr/.conda/envs/Hackin_Omics/lib/python3.10/site-packages/anndata/_core/anndata.py:1830: UserWarning: Variable names are not unique. To make them unique, call `.var_names_make_unique`.\n",
      "  utils.warn_names_duplicates(\"var\")\n",
      "/home/nileshkr/.conda/envs/Hackin_Omics/lib/python3.10/site-packages/anndata/_core/anndata.py:1830: UserWarning: Variable names are not unique. To make them unique, call `.var_names_make_unique`.\n",
      "  utils.warn_names_duplicates(\"var\")\n"
     ]
    },
    {
     "name": "stdout",
     "output_type": "stream",
     "text": [
      " (0:00:01)\n"
     ]
    },
    {
     "name": "stderr",
     "output_type": "stream",
     "text": [
      "/home/nileshkr/.conda/envs/Hackin_Omics/lib/python3.10/site-packages/anndata/_core/anndata.py:1830: UserWarning: Variable names are not unique. To make them unique, call `.var_names_make_unique`.\n",
      "  utils.warn_names_duplicates(\"var\")\n"
     ]
    },
    {
     "name": "stdout",
     "output_type": "stream",
     "text": [
      "reading filtered_feature_bc_matrix_h5/P1_2_cSCC.h5\n",
      " (0:00:00)\n",
      "reading filtered_feature_bc_matrix_h5/P9_cSCC.h5\n"
     ]
    },
    {
     "name": "stderr",
     "output_type": "stream",
     "text": [
      "/home/nileshkr/.conda/envs/Hackin_Omics/lib/python3.10/site-packages/anndata/_core/anndata.py:1830: UserWarning: Variable names are not unique. To make them unique, call `.var_names_make_unique`.\n",
      "  utils.warn_names_duplicates(\"var\")\n"
     ]
    },
    {
     "name": "stdout",
     "output_type": "stream",
     "text": [
      " (0:00:00)\n",
      "reading filtered_feature_bc_matrix_h5/P10_cSCC.h5\n"
     ]
    },
    {
     "name": "stderr",
     "output_type": "stream",
     "text": [
      "/home/nileshkr/.conda/envs/Hackin_Omics/lib/python3.10/site-packages/anndata/_core/anndata.py:1830: UserWarning: Variable names are not unique. To make them unique, call `.var_names_make_unique`.\n",
      "  utils.warn_names_duplicates(\"var\")\n"
     ]
    },
    {
     "name": "stdout",
     "output_type": "stream",
     "text": [
      " (0:00:00)\n",
      "reading filtered_feature_bc_matrix_h5/P1_1_cSCC.h5\n"
     ]
    },
    {
     "name": "stderr",
     "output_type": "stream",
     "text": [
      "/home/nileshkr/.conda/envs/Hackin_Omics/lib/python3.10/site-packages/anndata/_core/anndata.py:1830: UserWarning: Variable names are not unique. To make them unique, call `.var_names_make_unique`.\n",
      "  utils.warn_names_duplicates(\"var\")\n"
     ]
    },
    {
     "name": "stdout",
     "output_type": "stream",
     "text": [
      " (0:00:00)\n",
      "reading filtered_feature_bc_matrix_h5/P6_cSCC.h5\n"
     ]
    },
    {
     "name": "stderr",
     "output_type": "stream",
     "text": [
      "/home/nileshkr/.conda/envs/Hackin_Omics/lib/python3.10/site-packages/anndata/_core/anndata.py:1830: UserWarning: Variable names are not unique. To make them unique, call `.var_names_make_unique`.\n",
      "  utils.warn_names_duplicates(\"var\")\n"
     ]
    },
    {
     "name": "stdout",
     "output_type": "stream",
     "text": [
      " (0:00:00)\n"
     ]
    },
    {
     "name": "stderr",
     "output_type": "stream",
     "text": [
      "/home/nileshkr/.conda/envs/Hackin_Omics/lib/python3.10/site-packages/anndata/_core/anndata.py:1830: UserWarning: Variable names are not unique. To make them unique, call `.var_names_make_unique`.\n",
      "  utils.warn_names_duplicates(\"var\")\n"
     ]
    }
   ],
   "source": [
    "data_SCC_P8_1 = sc.read_10x_h5(\"filtered_feature_bc_matrix_h5/P8_1_cSCC.h5\")\n",
    "data_SCC_P8_1.var_names_make_unique()\n",
    "data_SCC_P8_1.obs['type'] = 'SCC'\n",
    "data_SCC_P8_1.obs['sample'] = 'SCC_P8_1'\n",
    "\n",
    "data_SCC_P8_2 = sc.read_10x_h5(\"filtered_feature_bc_matrix_h5/P8_2_cSCC.h5\")\n",
    "data_SCC_P8_2.var_names_make_unique()\n",
    "data_SCC_P8_2.obs['type'] = 'SCC'\n",
    "data_SCC_P8_2.obs['sample'] = 'SCC_P8_2'\n",
    "\n",
    "data_SCC_P7 = sc.read_10x_h5(\"filtered_feature_bc_matrix_h5/P7_cSCC.h5\")\n",
    "data_SCC_P7.var_names_make_unique()\n",
    "data_SCC_P7.obs['type'] = 'SCC'\n",
    "data_SCC_P7.obs['sample'] = 'SCC_P7'\n",
    "\n",
    "data_SCC_P3_1 = sc.read_10x_h5(\"filtered_feature_bc_matrix_h5/P3_1_cSCC.h5\")\n",
    "data_SCC_P3_1.var_names_make_unique()\n",
    "data_SCC_P3_1.obs['type'] = 'SCC'\n",
    "data_SCC_P3_1.obs['sample'] = 'SCC_P3_1'\n",
    "\n",
    "data_SCC_P2 = sc.read_10x_h5(\"filtered_feature_bc_matrix_h5/P2_cSCC.h5\")\n",
    "data_SCC_P2.var_names_make_unique()\n",
    "data_SCC_P2.obs['type'] = 'SCC'\n",
    "data_SCC_P2.obs['sample'] = 'SCC_P2'\n",
    "\n",
    "data_SCC_P5 = sc.read_10x_h5(\"filtered_feature_bc_matrix_h5/P5_cSCC.h5\")\n",
    "data_SCC_P5.var_names_make_unique()\n",
    "data_SCC_P5.obs['type'] = 'SCC'\n",
    "data_SCC_P5.obs['sample'] = 'SCC_P5'\n",
    "\n",
    "data_SCC_P3_2 = sc.read_10x_h5(\"filtered_feature_bc_matrix_h5/P3_2_cSCC.h5\")\n",
    "data_SCC_P3_2.var_names_make_unique()\n",
    "data_SCC_P3_2.obs['type'] = 'SCC'\n",
    "data_SCC_P3_2.obs['sample'] = 'SCC_P3_2'\n",
    "\n",
    "data_SCC_P4 = sc.read_10x_h5(\"filtered_feature_bc_matrix_h5/P4_cSCC.h5\")\n",
    "data_SCC_P4.var_names_make_unique()\n",
    "data_SCC_P4.obs['type'] = 'SCC'\n",
    "data_SCC_P4.obs['sample'] = 'SCC_P4'\n",
    "\n",
    "data_SCC_P1_2 = sc.read_10x_h5(\"filtered_feature_bc_matrix_h5/P1_2_cSCC.h5\")\n",
    "data_SCC_P1_2.var_names_make_unique()\n",
    "data_SCC_P1_2.obs['type'] = 'SCC'\n",
    "data_SCC_P1_2.obs['sample'] = 'SCC_P1_2'\n",
    "\n",
    "data_SCC_P9 = sc.read_10x_h5(\"filtered_feature_bc_matrix_h5/P9_cSCC.h5\")\n",
    "data_SCC_P9.var_names_make_unique()\n",
    "data_SCC_P9.obs['type'] = 'SCC'\n",
    "data_SCC_P9.obs['sample'] = 'SCC_P9'\n",
    "\n",
    "data_SCC_P10 = sc.read_10x_h5(\"filtered_feature_bc_matrix_h5/P10_cSCC.h5\")\n",
    "data_SCC_P10.var_names_make_unique()\n",
    "data_SCC_P10.obs['type'] = 'SCC'\n",
    "data_SCC_P10.obs['sample'] = 'SCC_P10'\n",
    "\n",
    "data_SCC_P1_1 = sc.read_10x_h5(\"filtered_feature_bc_matrix_h5/P1_1_cSCC.h5\")\n",
    "data_SCC_P1_1.var_names_make_unique()\n",
    "data_SCC_P1_1.obs['type'] = 'SCC'\n",
    "data_SCC_P1_1.obs['sample'] = 'SCC_P1_1'\n",
    "\n",
    "data_SCC_P6 = sc.read_10x_h5(\"filtered_feature_bc_matrix_h5/P6_cSCC.h5\")\n",
    "data_SCC_P6.var_names_make_unique()\n",
    "data_SCC_P6.obs['type'] = 'SCC'\n",
    "data_SCC_P6.obs['sample'] = 'SCC_P6'"
   ]
  },
  {
   "cell_type": "markdown",
   "id": "0c2225c3-ce35-491a-85db-c36c92cd629b",
   "metadata": {},
   "source": [
    "## Normal"
   ]
  },
  {
   "cell_type": "code",
   "execution_count": 6,
   "id": "859dbfd1-cc40-48a1-981a-c3087794c3bd",
   "metadata": {},
   "outputs": [
    {
     "name": "stdout",
     "output_type": "stream",
     "text": [
      "reading filtered_feature_bc_matrix_h5/P4.h5\n",
      " (0:00:00)\n",
      "reading filtered_feature_bc_matrix_h5/P1_1.h5\n"
     ]
    },
    {
     "name": "stderr",
     "output_type": "stream",
     "text": [
      "/home/nileshkr/.conda/envs/Hackin_Omics/lib/python3.10/site-packages/anndata/_core/anndata.py:1830: UserWarning: Variable names are not unique. To make them unique, call `.var_names_make_unique`.\n",
      "  utils.warn_names_duplicates(\"var\")\n"
     ]
    },
    {
     "name": "stdout",
     "output_type": "stream",
     "text": [
      " (0:00:00)\n",
      "reading filtered_feature_bc_matrix_h5/P10.h5\n"
     ]
    },
    {
     "name": "stderr",
     "output_type": "stream",
     "text": [
      "/home/nileshkr/.conda/envs/Hackin_Omics/lib/python3.10/site-packages/anndata/_core/anndata.py:1830: UserWarning: Variable names are not unique. To make them unique, call `.var_names_make_unique`.\n",
      "  utils.warn_names_duplicates(\"var\")\n"
     ]
    },
    {
     "name": "stdout",
     "output_type": "stream",
     "text": [
      " (0:00:00)\n",
      "reading filtered_feature_bc_matrix_h5/P3.h5\n"
     ]
    },
    {
     "name": "stderr",
     "output_type": "stream",
     "text": [
      "/home/nileshkr/.conda/envs/Hackin_Omics/lib/python3.10/site-packages/anndata/_core/anndata.py:1830: UserWarning: Variable names are not unique. To make them unique, call `.var_names_make_unique`.\n",
      "  utils.warn_names_duplicates(\"var\")\n"
     ]
    },
    {
     "name": "stdout",
     "output_type": "stream",
     "text": [
      " (0:00:00)\n",
      "reading filtered_feature_bc_matrix_h5/P2.h5\n"
     ]
    },
    {
     "name": "stderr",
     "output_type": "stream",
     "text": [
      "/home/nileshkr/.conda/envs/Hackin_Omics/lib/python3.10/site-packages/anndata/_core/anndata.py:1830: UserWarning: Variable names are not unique. To make them unique, call `.var_names_make_unique`.\n",
      "  utils.warn_names_duplicates(\"var\")\n"
     ]
    },
    {
     "name": "stdout",
     "output_type": "stream",
     "text": [
      " (0:00:00)\n",
      "reading filtered_feature_bc_matrix_h5/P9.h5\n"
     ]
    },
    {
     "name": "stderr",
     "output_type": "stream",
     "text": [
      "/home/nileshkr/.conda/envs/Hackin_Omics/lib/python3.10/site-packages/anndata/_core/anndata.py:1830: UserWarning: Variable names are not unique. To make them unique, call `.var_names_make_unique`.\n",
      "  utils.warn_names_duplicates(\"var\")\n"
     ]
    },
    {
     "name": "stdout",
     "output_type": "stream",
     "text": [
      " (0:00:00)\n",
      "reading filtered_feature_bc_matrix_h5/P8.h5\n"
     ]
    },
    {
     "name": "stderr",
     "output_type": "stream",
     "text": [
      "/home/nileshkr/.conda/envs/Hackin_Omics/lib/python3.10/site-packages/anndata/_core/anndata.py:1830: UserWarning: Variable names are not unique. To make them unique, call `.var_names_make_unique`.\n",
      "  utils.warn_names_duplicates(\"var\")\n"
     ]
    },
    {
     "name": "stdout",
     "output_type": "stream",
     "text": [
      " (0:00:00)\n",
      "reading filtered_feature_bc_matrix_h5/P7.h5\n"
     ]
    },
    {
     "name": "stderr",
     "output_type": "stream",
     "text": [
      "/home/nileshkr/.conda/envs/Hackin_Omics/lib/python3.10/site-packages/anndata/_core/anndata.py:1830: UserWarning: Variable names are not unique. To make them unique, call `.var_names_make_unique`.\n",
      "  utils.warn_names_duplicates(\"var\")\n"
     ]
    },
    {
     "name": "stdout",
     "output_type": "stream",
     "text": [
      " (0:00:00)\n",
      "reading filtered_feature_bc_matrix_h5/P6.h5\n"
     ]
    },
    {
     "name": "stderr",
     "output_type": "stream",
     "text": [
      "/home/nileshkr/.conda/envs/Hackin_Omics/lib/python3.10/site-packages/anndata/_core/anndata.py:1830: UserWarning: Variable names are not unique. To make them unique, call `.var_names_make_unique`.\n",
      "  utils.warn_names_duplicates(\"var\")\n"
     ]
    },
    {
     "name": "stdout",
     "output_type": "stream",
     "text": [
      " (0:00:00)\n",
      "reading filtered_feature_bc_matrix_h5/P5.h5\n"
     ]
    },
    {
     "name": "stderr",
     "output_type": "stream",
     "text": [
      "/home/nileshkr/.conda/envs/Hackin_Omics/lib/python3.10/site-packages/anndata/_core/anndata.py:1830: UserWarning: Variable names are not unique. To make them unique, call `.var_names_make_unique`.\n",
      "  utils.warn_names_duplicates(\"var\")\n"
     ]
    },
    {
     "name": "stdout",
     "output_type": "stream",
     "text": [
      " (0:00:00)\n"
     ]
    },
    {
     "name": "stderr",
     "output_type": "stream",
     "text": [
      "/home/nileshkr/.conda/envs/Hackin_Omics/lib/python3.10/site-packages/anndata/_core/anndata.py:1830: UserWarning: Variable names are not unique. To make them unique, call `.var_names_make_unique`.\n",
      "  utils.warn_names_duplicates(\"var\")\n"
     ]
    }
   ],
   "source": [
    "data_nrl_P4 = sc.read_10x_h5(\"filtered_feature_bc_matrix_h5/P4.h5\")\n",
    "data_nrl_P4.var_names_make_unique()\n",
    "data_nrl_P4.obs['type'] = 'Normal'\n",
    "data_nrl_P4.obs['sample'] = 'nrl_P4'\n",
    "\n",
    "data_nrl_P1_1 = sc.read_10x_h5(\"filtered_feature_bc_matrix_h5/P1_1.h5\")\n",
    "data_nrl_P1_1.var_names_make_unique()\n",
    "data_nrl_P1_1.obs['type'] = 'Normal'\n",
    "data_nrl_P1_1.obs['sample'] = 'nrl_P1_1'\n",
    "\n",
    "data_nrl_P10 = sc.read_10x_h5(\"filtered_feature_bc_matrix_h5/P10.h5\")\n",
    "data_nrl_P10.var_names_make_unique()\n",
    "data_nrl_P10.obs['type'] = 'Normal'\n",
    "data_nrl_P10.obs['sample'] = 'nrl_P10'\n",
    "\n",
    "data_nrl_P3 = sc.read_10x_h5(\"filtered_feature_bc_matrix_h5/P3.h5\")\n",
    "data_nrl_P3.var_names_make_unique()\n",
    "data_nrl_P3.obs['type'] = 'Normal'\n",
    "data_nrl_P3.obs['sample'] = 'nrl_P3'\n",
    "\n",
    "data_nrl_P2 = sc.read_10x_h5(\"filtered_feature_bc_matrix_h5/P2.h5\")\n",
    "data_nrl_P2.var_names_make_unique()\n",
    "data_nrl_P2.obs['type'] = 'Normal'\n",
    "data_nrl_P2.obs['sample'] = 'nrl_P2'\n",
    "\n",
    "data_nrl_P9 = sc.read_10x_h5(\"filtered_feature_bc_matrix_h5/P9.h5\")\n",
    "data_nrl_P9.var_names_make_unique()\n",
    "data_nrl_P9.obs['type'] = 'Normal'\n",
    "data_nrl_P9.obs['sample'] = 'nrl_P9'\n",
    "\n",
    "data_nrl_P8 = sc.read_10x_h5(\"filtered_feature_bc_matrix_h5/P8.h5\")\n",
    "data_nrl_P8.var_names_make_unique()\n",
    "data_nrl_P8.obs['type'] = 'Normal'\n",
    "data_nrl_P8.obs['sample'] = 'nrl_P8'\n",
    "\n",
    "data_nrl_P7 = sc.read_10x_h5(\"filtered_feature_bc_matrix_h5/P7.h5\")\n",
    "data_nrl_P7.var_names_make_unique()\n",
    "data_nrl_P7.obs['type'] = 'Normal'\n",
    "data_nrl_P7.obs['sample'] = 'nrl_P7'\n",
    "\n",
    "data_nrl_P6 = sc.read_10x_h5(\"filtered_feature_bc_matrix_h5/P6.h5\")\n",
    "data_nrl_P6.var_names_make_unique()\n",
    "data_nrl_P6.obs['type'] = 'Normal'\n",
    "data_nrl_P6.obs['sample'] = 'nrl_P6'\n",
    "\n",
    "data_nrl_P5 = sc.read_10x_h5(\"filtered_feature_bc_matrix_h5/P5.h5\")\n",
    "data_nrl_P5.var_names_make_unique()\n",
    "data_nrl_P5.obs['type'] = 'Normal'\n",
    "data_nrl_P5.obs['sample'] = 'nrl_P5'"
   ]
  },
  {
   "cell_type": "markdown",
   "id": "4df29a17-8fb1-46fa-8193-8edb68656451",
   "metadata": {},
   "source": [
    "# merge into one object.\n"
   ]
  },
  {
   "cell_type": "code",
   "execution_count": 7,
   "id": "ee54fd90-9b69-41c4-8d34-4ec37bdc489a",
   "metadata": {},
   "outputs": [
    {
     "name": "stderr",
     "output_type": "stream",
     "text": [
      "/home/nileshkr/.conda/envs/Hackin_Omics/lib/python3.10/site-packages/anndata/_core/anndata.py:1785: FutureWarning: X.dtype being converted to np.float32 from float64. In the next version of anndata (0.9) conversion will not be automatic. Pass dtype explicitly to avoid this warning. Pass `AnnData(X, dtype=X.dtype, ...)` to get the future behavour.\n",
      "  [AnnData(sparse.csr_matrix(a.shape), obs=a.obs) for a in all_adatas],\n"
     ]
    },
    {
     "name": "stdout",
     "output_type": "stream",
     "text": [
      "CPU times: user 1.84 s, sys: 306 ms, total: 2.14 s\n",
      "Wall time: 2.15 s\n"
     ]
    }
   ],
   "source": [
    "%%time\n",
    "\n",
    "adata = data_SCC_P1_1.concatenate(data_SCC_P10, data_SCC_P1_2, data_SCC_P2, data_SCC_P3_1, data_SCC_P3_2, \n",
    "                                  data_SCC_P4, data_SCC_P5, data_SCC_P6, data_SCC_P7, data_SCC_P8_1, \n",
    "                                  data_SCC_P8_2, data_SCC_P9, data_nrl_P10, data_nrl_P1_1, data_nrl_P2, \n",
    "                                  data_nrl_P3, data_nrl_P4, data_nrl_P5, data_nrl_P6, data_nrl_P7, \n",
    "                                  data_nrl_P8, data_nrl_P9)\n",
    "\n",
    "# and delete individual datasets to save space\n",
    "del(data_SCC_P10, data_SCC_P1_1, data_SCC_P1_2, data_SCC_P2, \n",
    "    data_SCC_P3_1, data_SCC_P3_2, data_SCC_P4, data_SCC_P5, \n",
    "    data_SCC_P6, data_SCC_P7, data_SCC_P8_1, data_SCC_P8_2, \n",
    "    data_SCC_P9, data_nrl_P10, data_nrl_P1_1, data_nrl_P2, \n",
    "    data_nrl_P3, data_nrl_P4, data_nrl_P5, data_nrl_P6, \n",
    "    data_nrl_P7, data_nrl_P8, data_nrl_P9)\n"
   ]
  },
  {
   "cell_type": "code",
   "execution_count": 8,
   "id": "5607d1c0-4443-49fd-a884-f1ee90d17daa",
   "metadata": {},
   "outputs": [],
   "source": [
    "adata.write(results_file)"
   ]
  },
  {
   "cell_type": "code",
   "execution_count": 9,
   "id": "0786f35d-f6ee-41e9-877b-9f263c945a53",
   "metadata": {},
   "outputs": [
    {
     "name": "stdout",
     "output_type": "stream",
     "text": [
      "SCC_P4      12474\n",
      "nrl_P9       7595\n",
      "nrl_P6       7066\n",
      "nrl_P2       6205\n",
      "SCC_P7       5292\n",
      "SCC_P2       5123\n",
      "SCC_P10      5053\n",
      "SCC_P8_1     4459\n",
      "SCC_P6       4453\n",
      "nrl_P10      4324\n",
      "nrl_P1_1     3584\n",
      "SCC_P9       3261\n",
      "nrl_P7       3105\n",
      "SCC_P5       2323\n",
      "nrl_P3       1553\n",
      "nrl_P5       1551\n",
      "SCC_P8_2     1531\n",
      "SCC_P1_1     1194\n",
      "SCC_P1_2      925\n",
      "nrl_P8        767\n",
      "SCC_P3_2      366\n",
      "nrl_P4        290\n",
      "SCC_P3_1      127\n",
      "Name: sample, dtype: int64\n"
     ]
    },
    {
     "data": {
      "text/plain": [
       "AnnData object with n_obs × n_vars = 82621 × 36601\n",
       "    obs: 'type', 'sample', 'batch'\n",
       "    var: 'gene_ids', 'feature_types', 'genome'"
      ]
     },
     "execution_count": 9,
     "metadata": {},
     "output_type": "execute_result"
    }
   ],
   "source": [
    "print(adata.obs['sample'].value_counts())\n",
    "\n",
    "adata"
   ]
  },
  {
   "cell_type": "markdown",
   "id": "8248c9d8-6b25-4023-aa5d-c4178f8e1f38",
   "metadata": {},
   "source": [
    "# 4  Calculate QC"
   ]
  },
  {
   "cell_type": "code",
   "execution_count": 10,
   "id": "adfabebb-f070-4c7a-9e13-dbbb0d66ccec",
   "metadata": {},
   "outputs": [
    {
     "name": "stderr",
     "output_type": "stream",
     "text": [
      "Global seed set to 0\n"
     ]
    }
   ],
   "source": [
    "import os\n",
    "\n",
    "import anndata\n",
    "import matplotlib.pyplot as plt\n",
    "import pandas as pd\n",
    "import scanpy as sc\n",
    "import scvi\n",
    "\n",
    "sc.set_figure_params(figsize=(4, 4))\n",
    "\n",
    "%config InlineBackend.print_figure_kwargs={'facecolor' : \"w\"}\n",
    "%config InlineBackend.figure_format='retina'"
   ]
  },
  {
   "cell_type": "code",
   "execution_count": null,
   "id": "ec2809c5-d690-4b41-bf4c-d1482f444dc0",
   "metadata": {},
   "outputs": [],
   "source": []
  },
  {
   "cell_type": "code",
   "execution_count": 11,
   "id": "bf430d4f-2ab4-4ba9-bbe3-676f21ce549e",
   "metadata": {},
   "outputs": [
    {
     "data": {
      "text/plain": [
       "AnnData object with n_obs × n_vars = 82621 × 36601\n",
       "    obs: 'type', 'sample', 'batch'\n",
       "    var: 'gene_ids', 'feature_types', 'genome'"
      ]
     },
     "execution_count": 11,
     "metadata": {},
     "output_type": "execute_result"
    }
   ],
   "source": [
    "save_path = \"Results\"\n",
    "# adata = sc.read(os.path.join(save_path, \"pbmc_10k_protein_v3.h5ad\"), backup_url=\"https://github.com/YosefLab/scVI-data/raw/master/pbmc_10k_protein_v3.h5ad?raw=true\")\n",
    "# adata = scvi.data.read_h5ad(\"P9_filtered_feature_bc_matrix.h5\")\n",
    "adata = sc.read(\"Results/SCC.h5ad\")\n",
    "\n",
    "adata"
   ]
  },
  {
   "cell_type": "code",
   "execution_count": 12,
   "id": "40d7f154-6cf9-426c-9c5b-8ce99ceb843c",
   "metadata": {},
   "outputs": [
    {
     "name": "stdout",
     "output_type": "stream",
     "text": [
      "SCC_P4      12474\n",
      "nrl_P9       7595\n",
      "nrl_P6       7066\n",
      "nrl_P2       6205\n",
      "SCC_P7       5292\n",
      "SCC_P2       5123\n",
      "SCC_P10      5053\n",
      "SCC_P8_1     4459\n",
      "SCC_P6       4453\n",
      "nrl_P10      4324\n",
      "nrl_P1_1     3584\n",
      "SCC_P9       3261\n",
      "nrl_P7       3105\n",
      "SCC_P5       2323\n",
      "nrl_P3       1553\n",
      "nrl_P5       1551\n",
      "SCC_P8_2     1531\n",
      "SCC_P1_1     1194\n",
      "SCC_P1_2      925\n",
      "nrl_P8        767\n",
      "SCC_P3_2      366\n",
      "nrl_P4        290\n",
      "SCC_P3_1      127\n",
      "Name: sample, dtype: int64\n"
     ]
    },
    {
     "data": {
      "text/plain": [
       "AnnData object with n_obs × n_vars = 82621 × 36601\n",
       "    obs: 'type', 'sample', 'batch'\n",
       "    var: 'gene_ids', 'feature_types', 'genome'"
      ]
     },
     "execution_count": 12,
     "metadata": {},
     "output_type": "execute_result"
    }
   ],
   "source": [
    "print(adata.obs['sample'].value_counts())\n",
    "\n",
    "adata"
   ]
  },
  {
   "cell_type": "code",
   "execution_count": 13,
   "id": "cb5ca166-3b56-4a5f-9fd6-d70e53127bb0",
   "metadata": {},
   "outputs": [],
   "source": [
    "# QC"
   ]
  },
  {
   "cell_type": "code",
   "execution_count": 14,
   "id": "8215a739-b310-4596-b3fd-e59f974b1cec",
   "metadata": {},
   "outputs": [
    {
     "name": "stdout",
     "output_type": "stream",
     "text": [
      "filtered out 1997 cells that have less than 200 genes expressed\n",
      "filtered out 8815 genes that are detected in less than 3 cells\n"
     ]
    }
   ],
   "source": [
    "sc.pp.filter_cells(adata, min_genes=200)\n",
    "sc.pp.filter_genes(adata, min_cells=3)"
   ]
  },
  {
   "cell_type": "code",
   "execution_count": 15,
   "id": "f32f5870-6166-4149-b019-289782ef6f15",
   "metadata": {},
   "outputs": [],
   "source": [
    "adata.var['mt'] = adata.var_names.str.startswith('MT-')  # annotate the group of mitochondrial genes as 'mt'\n",
    "sc.pp.calculate_qc_metrics(adata, qc_vars=['mt'], percent_top=None, log1p=False, inplace=True)"
   ]
  },
  {
   "cell_type": "code",
   "execution_count": 16,
   "id": "d8af1abb-6737-4657-a973-cf59325a1e3d",
   "metadata": {},
   "outputs": [],
   "source": [
    "sc.pl.violin(adata, ['n_genes_by_counts', 'total_counts', 'pct_counts_mt'],\n",
    "             jitter=0.4, multi_panel=True)"
   ]
  },
  {
   "cell_type": "code",
   "execution_count": 17,
   "id": "eb4949ff-3560-41f2-b8f5-1690bc2bdd1b",
   "metadata": {},
   "outputs": [],
   "source": [
    "sc.pl.scatter(adata, x='total_counts', y='pct_counts_mt')\n",
    "sc.pl.scatter(adata, x='total_counts', y='n_genes_by_counts')"
   ]
  },
  {
   "cell_type": "code",
   "execution_count": 18,
   "id": "9f2372ba-5646-4904-ad41-d72ed69252f6",
   "metadata": {},
   "outputs": [],
   "source": [
    "adata = adata[adata.obs.n_genes_by_counts < 2500, :]\n",
    "adata = adata[adata.obs.pct_counts_mt < 5, :]"
   ]
  },
  {
   "cell_type": "code",
   "execution_count": 19,
   "id": "7b8350e8-4551-4139-bcb6-3623b2a42780",
   "metadata": {},
   "outputs": [],
   "source": [
    "adata.layers[\"counts\"] = adata.X.copy()"
   ]
  },
  {
   "cell_type": "code",
   "execution_count": 20,
   "id": "8adec84c-e485-46bf-838e-dfeb8b1dc609",
   "metadata": {},
   "outputs": [],
   "source": [
    "n_topics = 10\n",
    "\n",
    "scvi.model.AmortizedLDA.setup_anndata(adata, layer = \"counts\")\n",
    "model = scvi.model.AmortizedLDA(adata, n_topics = n_topics)"
   ]
  },
  {
   "cell_type": "code",
   "execution_count": 21,
   "id": "40c2a7a1-22dc-49f1-b406-b5dc2379c7e6",
   "metadata": {},
   "outputs": [
    {
     "data": {
      "text/html": [
       "<pre style=\"white-space:pre;overflow-x:auto;line-height:normal;font-family:Menlo,'DejaVu Sans Mono',consolas,'Courier New',monospace\">\n",
       "Training status: Not Trained\n",
       "</pre>\n"
      ],
      "text/plain": [
       "\n",
       "Training status: Not Trained\n"
      ]
     },
     "metadata": {},
     "output_type": "display_data"
    },
    {
     "data": {
      "text/plain": []
     },
     "execution_count": 21,
     "metadata": {},
     "output_type": "execute_result"
    }
   ],
   "source": [
    "scvi.model.AmortizedLDA(adata, n_topics = n_topics)"
   ]
  },
  {
   "cell_type": "code",
   "execution_count": null,
   "id": "7c248348-7966-4df3-b890-7449e595627a",
   "metadata": {},
   "outputs": [
    {
     "name": "stderr",
     "output_type": "stream",
     "text": [
      "GPU available: False, used: False\n",
      "TPU available: False, using: 0 TPU cores\n",
      "IPU available: False, using: 0 IPUs\n",
      "HPU available: False, using: 0 HPUs\n",
      "/home/nileshkr/.conda/envs/Hackin_Omics/lib/python3.10/site-packages/pytorch_lightning/trainer/configuration_validator.py:131: UserWarning: You passed in a `val_dataloader` but have no `validation_step`. Skipping val loop.\n",
      "  rank_zero_warn(\"You passed in a `val_dataloader` but have no `validation_step`. Skipping val loop.\")\n"
     ]
    },
    {
     "name": "stdout",
     "output_type": "stream",
     "text": [
      "Epoch 201/521:  38%|███▊      | 200/521 [47:10<1:16:16, 14.26s/it, v_num=1, elbo_train=1.06e+9]"
     ]
    }
   ],
   "source": [
    "model.train()"
   ]
  },
  {
   "cell_type": "code",
   "execution_count": null,
   "id": "9b860f70-7cea-464b-a4b8-b5b2137e2873",
   "metadata": {},
   "outputs": [],
   "source": [
    "model.save(\"SCC_Topic_model/\")"
   ]
  },
  {
   "cell_type": "code",
   "execution_count": null,
   "id": "5f74e705",
   "metadata": {},
   "outputs": [],
   "source": []
  }
 ],
 "metadata": {
  "anaconda-cloud": {},
  "kernelspec": {
   "display_name": "Hackin_Omics",
   "language": "python",
   "name": "hackin_omics"
  },
  "language_info": {
   "codemirror_mode": {
    "name": "ipython",
    "version": 3
   },
   "file_extension": ".py",
   "mimetype": "text/x-python",
   "name": "python",
   "nbconvert_exporter": "python",
   "pygments_lexer": "ipython3",
   "version": "3.10.5"
  }
 },
 "nbformat": 4,
 "nbformat_minor": 5
}
